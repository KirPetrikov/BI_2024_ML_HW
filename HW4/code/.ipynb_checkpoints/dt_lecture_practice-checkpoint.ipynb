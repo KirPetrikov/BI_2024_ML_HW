{
 "cells": [
  {
   "cell_type": "code",
   "execution_count": 22,
   "id": "b084d51a-694e-4cc8-99cb-f2e8cc62269d",
   "metadata": {},
   "outputs": [],
   "source": [
    "import pandas as pd\n",
    "import numpy as np\n",
    "import seaborn as sns\n",
    "import matplotlib.pyplot as plt\n",
    "import random\n",
    "\n",
    "from sklearn.impute import SimpleImputer\n",
    "from sklearn.tree import DecisionTreeClassifier, plot_tree\n",
    "from sklearn.model_selection import train_test_split, GridSearchCV\n",
    "from sklearn.metrics import accuracy_score, balanced_accuracy_score"
   ]
  },
  {
   "cell_type": "code",
   "execution_count": 2,
   "id": "75b6047a-1a88-4270-b3c2-9a4094c99be7",
   "metadata": {},
   "outputs": [],
   "source": [
    "SEED = 111\n",
    "random.seed(SEED)\n",
    "np.random.seed(SEED)"
   ]
  },
  {
   "cell_type": "markdown",
   "id": "ab8e95f5-5349-423d-8c28-e80f50a61ce2",
   "metadata": {},
   "source": [
    "Будем учиться классифицировать жанры музыки, полузуюсь не аудио дорожками, а уже осмысленными признаками (правда, не все из них имеют понятные названия). Сами данные можно найти [здесь](https://www.kaggle.com/purumalgi/music-genre-classification). Будем использовать файл `train.csv`. Нашей задачей будет предсказание переменной `Class` (жанр песни) при помощи деревьев решений. Можно попробовать также другие методы классификации, которые мы прошли, и сравнить результаты. При обучении всех моделей не забывайте про разделение на тренировку и тест (или кросс валидацию [ссылка](https://www.youtube.com/watch?v=fSytzGwwBVw))."
   ]
  },
  {
   "cell_type": "markdown",
   "id": "04e0c9f5-2043-4ed7-92e4-e53677b60df8",
   "metadata": {},
   "source": [
    "### Задание 1. EDA (10 баллов)\n",
    "\n",
    "Как обычно, начнем с того, что посмотрим на наши данные: типы переменных, пропущенные значения, баланс классов и все такое. Ваш ход:"
   ]
  },
  {
   "cell_type": "code",
   "execution_count": 3,
   "id": "1ab19c5c-4a2b-4388-8063-ec56e415408a",
   "metadata": {},
   "outputs": [
    {
     "data": {
      "text/html": [
       "<div>\n",
       "<style scoped>\n",
       "    .dataframe tbody tr th:only-of-type {\n",
       "        vertical-align: middle;\n",
       "    }\n",
       "\n",
       "    .dataframe tbody tr th {\n",
       "        vertical-align: top;\n",
       "    }\n",
       "\n",
       "    .dataframe thead th {\n",
       "        text-align: right;\n",
       "    }\n",
       "</style>\n",
       "<table border=\"1\" class=\"dataframe\">\n",
       "  <thead>\n",
       "    <tr style=\"text-align: right;\">\n",
       "      <th></th>\n",
       "      <th>Artist Name</th>\n",
       "      <th>Track Name</th>\n",
       "      <th>Popularity</th>\n",
       "      <th>danceability</th>\n",
       "      <th>energy</th>\n",
       "      <th>key</th>\n",
       "      <th>loudness</th>\n",
       "      <th>mode</th>\n",
       "      <th>speechiness</th>\n",
       "      <th>acousticness</th>\n",
       "      <th>instrumentalness</th>\n",
       "      <th>liveness</th>\n",
       "      <th>valence</th>\n",
       "      <th>tempo</th>\n",
       "      <th>duration_in min/ms</th>\n",
       "      <th>time_signature</th>\n",
       "      <th>Class</th>\n",
       "    </tr>\n",
       "  </thead>\n",
       "  <tbody>\n",
       "    <tr>\n",
       "      <th>0</th>\n",
       "      <td>Bruno Mars</td>\n",
       "      <td>That's What I Like (feat. Gucci Mane)</td>\n",
       "      <td>60.0</td>\n",
       "      <td>0.854</td>\n",
       "      <td>0.564</td>\n",
       "      <td>1.0</td>\n",
       "      <td>-4.964</td>\n",
       "      <td>1</td>\n",
       "      <td>0.0485</td>\n",
       "      <td>0.017100</td>\n",
       "      <td>NaN</td>\n",
       "      <td>0.0849</td>\n",
       "      <td>0.8990</td>\n",
       "      <td>134.071</td>\n",
       "      <td>234596.0</td>\n",
       "      <td>4</td>\n",
       "      <td>5</td>\n",
       "    </tr>\n",
       "    <tr>\n",
       "      <th>1</th>\n",
       "      <td>Boston</td>\n",
       "      <td>Hitch a Ride</td>\n",
       "      <td>54.0</td>\n",
       "      <td>0.382</td>\n",
       "      <td>0.814</td>\n",
       "      <td>3.0</td>\n",
       "      <td>-7.230</td>\n",
       "      <td>1</td>\n",
       "      <td>0.0406</td>\n",
       "      <td>0.001100</td>\n",
       "      <td>0.004010</td>\n",
       "      <td>0.1010</td>\n",
       "      <td>0.5690</td>\n",
       "      <td>116.454</td>\n",
       "      <td>251733.0</td>\n",
       "      <td>4</td>\n",
       "      <td>10</td>\n",
       "    </tr>\n",
       "    <tr>\n",
       "      <th>2</th>\n",
       "      <td>The Raincoats</td>\n",
       "      <td>No Side to Fall In</td>\n",
       "      <td>35.0</td>\n",
       "      <td>0.434</td>\n",
       "      <td>0.614</td>\n",
       "      <td>6.0</td>\n",
       "      <td>-8.334</td>\n",
       "      <td>1</td>\n",
       "      <td>0.0525</td>\n",
       "      <td>0.486000</td>\n",
       "      <td>0.000196</td>\n",
       "      <td>0.3940</td>\n",
       "      <td>0.7870</td>\n",
       "      <td>147.681</td>\n",
       "      <td>109667.0</td>\n",
       "      <td>4</td>\n",
       "      <td>6</td>\n",
       "    </tr>\n",
       "    <tr>\n",
       "      <th>3</th>\n",
       "      <td>Deno</td>\n",
       "      <td>Lingo (feat. J.I &amp; Chunkz)</td>\n",
       "      <td>66.0</td>\n",
       "      <td>0.853</td>\n",
       "      <td>0.597</td>\n",
       "      <td>10.0</td>\n",
       "      <td>-6.528</td>\n",
       "      <td>0</td>\n",
       "      <td>0.0555</td>\n",
       "      <td>0.021200</td>\n",
       "      <td>NaN</td>\n",
       "      <td>0.1220</td>\n",
       "      <td>0.5690</td>\n",
       "      <td>107.033</td>\n",
       "      <td>173968.0</td>\n",
       "      <td>4</td>\n",
       "      <td>5</td>\n",
       "    </tr>\n",
       "    <tr>\n",
       "      <th>4</th>\n",
       "      <td>Red Hot Chili Peppers</td>\n",
       "      <td>Nobody Weird Like Me - Remastered</td>\n",
       "      <td>53.0</td>\n",
       "      <td>0.167</td>\n",
       "      <td>0.975</td>\n",
       "      <td>2.0</td>\n",
       "      <td>-4.279</td>\n",
       "      <td>1</td>\n",
       "      <td>0.2160</td>\n",
       "      <td>0.000169</td>\n",
       "      <td>0.016100</td>\n",
       "      <td>0.1720</td>\n",
       "      <td>0.0918</td>\n",
       "      <td>199.060</td>\n",
       "      <td>229960.0</td>\n",
       "      <td>4</td>\n",
       "      <td>10</td>\n",
       "    </tr>\n",
       "  </tbody>\n",
       "</table>\n",
       "</div>"
      ],
      "text/plain": [
       "             Artist Name                             Track Name  Popularity  \\\n",
       "0             Bruno Mars  That's What I Like (feat. Gucci Mane)        60.0   \n",
       "1                 Boston                           Hitch a Ride        54.0   \n",
       "2          The Raincoats                     No Side to Fall In        35.0   \n",
       "3                   Deno             Lingo (feat. J.I & Chunkz)        66.0   \n",
       "4  Red Hot Chili Peppers      Nobody Weird Like Me - Remastered        53.0   \n",
       "\n",
       "   danceability  energy   key  loudness  mode  speechiness  acousticness  \\\n",
       "0         0.854   0.564   1.0    -4.964     1       0.0485      0.017100   \n",
       "1         0.382   0.814   3.0    -7.230     1       0.0406      0.001100   \n",
       "2         0.434   0.614   6.0    -8.334     1       0.0525      0.486000   \n",
       "3         0.853   0.597  10.0    -6.528     0       0.0555      0.021200   \n",
       "4         0.167   0.975   2.0    -4.279     1       0.2160      0.000169   \n",
       "\n",
       "   instrumentalness  liveness  valence    tempo  duration_in min/ms  \\\n",
       "0               NaN    0.0849   0.8990  134.071            234596.0   \n",
       "1          0.004010    0.1010   0.5690  116.454            251733.0   \n",
       "2          0.000196    0.3940   0.7870  147.681            109667.0   \n",
       "3               NaN    0.1220   0.5690  107.033            173968.0   \n",
       "4          0.016100    0.1720   0.0918  199.060            229960.0   \n",
       "\n",
       "   time_signature  Class  \n",
       "0               4      5  \n",
       "1               4     10  \n",
       "2               4      6  \n",
       "3               4      5  \n",
       "4               4     10  "
      ]
     },
     "execution_count": 3,
     "metadata": {},
     "output_type": "execute_result"
    }
   ],
   "source": [
    "data = pd.read_csv(\"../data/train.csv\")\n",
    "data.head()"
   ]
  },
  {
   "cell_type": "markdown",
   "id": "816c9e09-1154-48d9-8a0c-3be15357a60a",
   "metadata": {},
   "source": [
    "Оценим размер, типы данных"
   ]
  },
  {
   "cell_type": "code",
   "execution_count": 4,
   "id": "986c6615-a35f-4a21-b23b-7475a765ecd7",
   "metadata": {},
   "outputs": [
    {
     "name": "stdout",
     "output_type": "stream",
     "text": [
      "(17996, 17)\n"
     ]
    },
    {
     "data": {
      "text/plain": [
       "Artist Name            object\n",
       "Track Name             object\n",
       "Popularity            float64\n",
       "danceability          float64\n",
       "energy                float64\n",
       "key                   float64\n",
       "loudness              float64\n",
       "mode                    int64\n",
       "speechiness           float64\n",
       "acousticness          float64\n",
       "instrumentalness      float64\n",
       "liveness              float64\n",
       "valence               float64\n",
       "tempo                 float64\n",
       "duration_in min/ms    float64\n",
       "time_signature          int64\n",
       "Class                   int64\n",
       "dtype: object"
      ]
     },
     "execution_count": 4,
     "metadata": {},
     "output_type": "execute_result"
    }
   ],
   "source": [
    "print(data.shape)\n",
    "data.dtypes"
   ]
  },
  {
   "cell_type": "code",
   "execution_count": 5,
   "id": "28cb8bee-fd01-4e2b-804c-facc22d8f4f9",
   "metadata": {},
   "outputs": [
    {
     "data": {
      "text/plain": [
       "Artist Name\n",
       "Backstreet Boys    69\n",
       "Westlife           60\n",
       "Britney Spears     54\n",
       "Omer Adam          48\n",
       "Eyal Golan         48\n",
       "                   ..\n",
       "Rocky Trail         1\n",
       "Smerz               1\n",
       "lavender            1\n",
       "Fear Culture        1\n",
       "Beherit             1\n",
       "Name: count, Length: 9149, dtype: int64"
      ]
     },
     "execution_count": 5,
     "metadata": {},
     "output_type": "execute_result"
    }
   ],
   "source": [
    "data['Artist Name'].value_counts()"
   ]
  },
  {
   "cell_type": "markdown",
   "id": "62de762c-7557-4440-a7e1-f37abb929d31",
   "metadata": {},
   "source": [
    "Предсказать жанр по исполнителю кажется неплохой идеей, но при таком балансе вряд ли получится. Тем более это верно для названий песен. Убираем столбцы."
   ]
  },
  {
   "cell_type": "code",
   "execution_count": 63,
   "id": "0e6f9265-f43d-4357-8e79-8e734fed86f7",
   "metadata": {},
   "outputs": [],
   "source": [
    "data_f = data.iloc[: , 2:]"
   ]
  },
  {
   "cell_type": "code",
   "execution_count": 7,
   "id": "41f68625-d29b-4e8a-abde-671f777ece19",
   "metadata": {},
   "outputs": [
    {
     "name": "stdout",
     "output_type": "stream",
     "text": [
      "Popularity           428\n",
      "key                 2014\n",
      "instrumentalness    4377\n",
      "dtype: int64 \n",
      "\n"
     ]
    },
    {
     "data": {
      "text/plain": [
       "6183"
      ]
     },
     "execution_count": 7,
     "metadata": {},
     "output_type": "execute_result"
    }
   ],
   "source": [
    "print(data_f.isna().sum()[data_f.isna().sum().values != 0], '\\n')\n",
    "\n",
    "data.loc[(data.Popularity.isna()) | (data.key.isna()) | (data.instrumentalness.isna())].shape[0]"
   ]
  },
  {
   "cell_type": "markdown",
   "id": "760b61fa-e9ca-4e5c-ae7e-022c5d8cc1ca",
   "metadata": {},
   "source": [
    "Пропущенных значений немало, и почти все у разных объектов. Пока запомним."
   ]
  },
  {
   "cell_type": "code",
   "execution_count": 8,
   "id": "be5a9695-1460-42c1-89dd-94c730eda5b3",
   "metadata": {},
   "outputs": [
    {
     "data": {
      "text/html": [
       "<div>\n",
       "<style scoped>\n",
       "    .dataframe tbody tr th:only-of-type {\n",
       "        vertical-align: middle;\n",
       "    }\n",
       "\n",
       "    .dataframe tbody tr th {\n",
       "        vertical-align: top;\n",
       "    }\n",
       "\n",
       "    .dataframe thead th {\n",
       "        text-align: right;\n",
       "    }\n",
       "</style>\n",
       "<table border=\"1\" class=\"dataframe\">\n",
       "  <thead>\n",
       "    <tr style=\"text-align: right;\">\n",
       "      <th></th>\n",
       "      <th>Popularity</th>\n",
       "      <th>danceability</th>\n",
       "      <th>energy</th>\n",
       "      <th>key</th>\n",
       "      <th>loudness</th>\n",
       "      <th>mode</th>\n",
       "      <th>speechiness</th>\n",
       "      <th>acousticness</th>\n",
       "      <th>instrumentalness</th>\n",
       "      <th>liveness</th>\n",
       "      <th>valence</th>\n",
       "      <th>tempo</th>\n",
       "      <th>duration_in min/ms</th>\n",
       "      <th>time_signature</th>\n",
       "      <th>Class</th>\n",
       "    </tr>\n",
       "  </thead>\n",
       "  <tbody>\n",
       "    <tr>\n",
       "      <th>count</th>\n",
       "      <td>17568.000000</td>\n",
       "      <td>17996.000000</td>\n",
       "      <td>17996.000000</td>\n",
       "      <td>15982.000000</td>\n",
       "      <td>17996.000000</td>\n",
       "      <td>17996.000000</td>\n",
       "      <td>17996.000000</td>\n",
       "      <td>17996.000000</td>\n",
       "      <td>13619.000000</td>\n",
       "      <td>17996.000000</td>\n",
       "      <td>17996.000000</td>\n",
       "      <td>17996.000000</td>\n",
       "      <td>1.799600e+04</td>\n",
       "      <td>17996.000000</td>\n",
       "      <td>17996.000000</td>\n",
       "    </tr>\n",
       "    <tr>\n",
       "      <th>mean</th>\n",
       "      <td>44.512124</td>\n",
       "      <td>0.543433</td>\n",
       "      <td>0.662777</td>\n",
       "      <td>5.952447</td>\n",
       "      <td>-7.910660</td>\n",
       "      <td>0.636753</td>\n",
       "      <td>0.079707</td>\n",
       "      <td>0.247082</td>\n",
       "      <td>0.177562</td>\n",
       "      <td>0.196170</td>\n",
       "      <td>0.486208</td>\n",
       "      <td>122.623294</td>\n",
       "      <td>2.007445e+05</td>\n",
       "      <td>3.924039</td>\n",
       "      <td>6.695821</td>\n",
       "    </tr>\n",
       "    <tr>\n",
       "      <th>std</th>\n",
       "      <td>17.426928</td>\n",
       "      <td>0.166268</td>\n",
       "      <td>0.235373</td>\n",
       "      <td>3.196854</td>\n",
       "      <td>4.049151</td>\n",
       "      <td>0.480949</td>\n",
       "      <td>0.083576</td>\n",
       "      <td>0.310632</td>\n",
       "      <td>0.304048</td>\n",
       "      <td>0.159212</td>\n",
       "      <td>0.240195</td>\n",
       "      <td>29.571527</td>\n",
       "      <td>1.119891e+05</td>\n",
       "      <td>0.361618</td>\n",
       "      <td>3.206073</td>\n",
       "    </tr>\n",
       "    <tr>\n",
       "      <th>min</th>\n",
       "      <td>1.000000</td>\n",
       "      <td>0.059600</td>\n",
       "      <td>0.000020</td>\n",
       "      <td>1.000000</td>\n",
       "      <td>-39.952000</td>\n",
       "      <td>0.000000</td>\n",
       "      <td>0.022500</td>\n",
       "      <td>0.000000</td>\n",
       "      <td>0.000001</td>\n",
       "      <td>0.011900</td>\n",
       "      <td>0.018300</td>\n",
       "      <td>30.557000</td>\n",
       "      <td>5.016500e-01</td>\n",
       "      <td>1.000000</td>\n",
       "      <td>0.000000</td>\n",
       "    </tr>\n",
       "    <tr>\n",
       "      <th>25%</th>\n",
       "      <td>33.000000</td>\n",
       "      <td>0.432000</td>\n",
       "      <td>0.509000</td>\n",
       "      <td>3.000000</td>\n",
       "      <td>-9.538000</td>\n",
       "      <td>0.000000</td>\n",
       "      <td>0.034800</td>\n",
       "      <td>0.004300</td>\n",
       "      <td>0.000089</td>\n",
       "      <td>0.097500</td>\n",
       "      <td>0.297000</td>\n",
       "      <td>99.620750</td>\n",
       "      <td>1.663370e+05</td>\n",
       "      <td>4.000000</td>\n",
       "      <td>5.000000</td>\n",
       "    </tr>\n",
       "    <tr>\n",
       "      <th>50%</th>\n",
       "      <td>44.000000</td>\n",
       "      <td>0.545000</td>\n",
       "      <td>0.700000</td>\n",
       "      <td>6.000000</td>\n",
       "      <td>-7.016000</td>\n",
       "      <td>1.000000</td>\n",
       "      <td>0.047400</td>\n",
       "      <td>0.081400</td>\n",
       "      <td>0.003910</td>\n",
       "      <td>0.129000</td>\n",
       "      <td>0.481000</td>\n",
       "      <td>120.065500</td>\n",
       "      <td>2.091600e+05</td>\n",
       "      <td>4.000000</td>\n",
       "      <td>8.000000</td>\n",
       "    </tr>\n",
       "    <tr>\n",
       "      <th>75%</th>\n",
       "      <td>56.000000</td>\n",
       "      <td>0.659000</td>\n",
       "      <td>0.860000</td>\n",
       "      <td>9.000000</td>\n",
       "      <td>-5.189000</td>\n",
       "      <td>1.000000</td>\n",
       "      <td>0.083000</td>\n",
       "      <td>0.434000</td>\n",
       "      <td>0.200000</td>\n",
       "      <td>0.258000</td>\n",
       "      <td>0.672000</td>\n",
       "      <td>141.969250</td>\n",
       "      <td>2.524900e+05</td>\n",
       "      <td>4.000000</td>\n",
       "      <td>10.000000</td>\n",
       "    </tr>\n",
       "    <tr>\n",
       "      <th>max</th>\n",
       "      <td>100.000000</td>\n",
       "      <td>0.989000</td>\n",
       "      <td>1.000000</td>\n",
       "      <td>11.000000</td>\n",
       "      <td>1.355000</td>\n",
       "      <td>1.000000</td>\n",
       "      <td>0.955000</td>\n",
       "      <td>0.996000</td>\n",
       "      <td>0.996000</td>\n",
       "      <td>1.000000</td>\n",
       "      <td>0.986000</td>\n",
       "      <td>217.416000</td>\n",
       "      <td>1.477187e+06</td>\n",
       "      <td>5.000000</td>\n",
       "      <td>10.000000</td>\n",
       "    </tr>\n",
       "  </tbody>\n",
       "</table>\n",
       "</div>"
      ],
      "text/plain": [
       "         Popularity  danceability        energy           key      loudness  \\\n",
       "count  17568.000000  17996.000000  17996.000000  15982.000000  17996.000000   \n",
       "mean      44.512124      0.543433      0.662777      5.952447     -7.910660   \n",
       "std       17.426928      0.166268      0.235373      3.196854      4.049151   \n",
       "min        1.000000      0.059600      0.000020      1.000000    -39.952000   \n",
       "25%       33.000000      0.432000      0.509000      3.000000     -9.538000   \n",
       "50%       44.000000      0.545000      0.700000      6.000000     -7.016000   \n",
       "75%       56.000000      0.659000      0.860000      9.000000     -5.189000   \n",
       "max      100.000000      0.989000      1.000000     11.000000      1.355000   \n",
       "\n",
       "               mode   speechiness  acousticness  instrumentalness  \\\n",
       "count  17996.000000  17996.000000  17996.000000      13619.000000   \n",
       "mean       0.636753      0.079707      0.247082          0.177562   \n",
       "std        0.480949      0.083576      0.310632          0.304048   \n",
       "min        0.000000      0.022500      0.000000          0.000001   \n",
       "25%        0.000000      0.034800      0.004300          0.000089   \n",
       "50%        1.000000      0.047400      0.081400          0.003910   \n",
       "75%        1.000000      0.083000      0.434000          0.200000   \n",
       "max        1.000000      0.955000      0.996000          0.996000   \n",
       "\n",
       "           liveness       valence         tempo  duration_in min/ms  \\\n",
       "count  17996.000000  17996.000000  17996.000000        1.799600e+04   \n",
       "mean       0.196170      0.486208    122.623294        2.007445e+05   \n",
       "std        0.159212      0.240195     29.571527        1.119891e+05   \n",
       "min        0.011900      0.018300     30.557000        5.016500e-01   \n",
       "25%        0.097500      0.297000     99.620750        1.663370e+05   \n",
       "50%        0.129000      0.481000    120.065500        2.091600e+05   \n",
       "75%        0.258000      0.672000    141.969250        2.524900e+05   \n",
       "max        1.000000      0.986000    217.416000        1.477187e+06   \n",
       "\n",
       "       time_signature         Class  \n",
       "count    17996.000000  17996.000000  \n",
       "mean         3.924039      6.695821  \n",
       "std          0.361618      3.206073  \n",
       "min          1.000000      0.000000  \n",
       "25%          4.000000      5.000000  \n",
       "50%          4.000000      8.000000  \n",
       "75%          4.000000     10.000000  \n",
       "max          5.000000     10.000000  "
      ]
     },
     "execution_count": 8,
     "metadata": {},
     "output_type": "execute_result"
    }
   ],
   "source": [
    "data_f.describe()"
   ]
  },
  {
   "cell_type": "markdown",
   "id": "9764eaff-8a70-41c6-a4ec-84c0d4c57e67",
   "metadata": {},
   "source": [
    "Примерно понятно, какие параметры категориальные. Посмотрим получше."
   ]
  },
  {
   "cell_type": "code",
   "execution_count": 9,
   "id": "c18de8ba-3259-4b91-9b66-2bb40b1c5bd3",
   "metadata": {},
   "outputs": [],
   "source": [
    "cat_cols = ['key', 'mode', 'time_signature', 'Class']"
   ]
  },
  {
   "cell_type": "code",
   "execution_count": 11,
   "id": "2d461345-16af-4d31-9f76-c58cbf8ce5b2",
   "metadata": {},
   "outputs": [
    {
     "name": "stdout",
     "output_type": "stream",
     "text": [
      "key\n",
      "7.0     2097\n",
      "2.0     1994\n",
      "9.0     1961\n",
      "1.0     1680\n",
      "4.0     1549\n",
      "11.0    1476\n",
      "5.0     1397\n",
      "6.0     1190\n",
      "8.0     1119\n",
      "10.0    1010\n",
      "3.0      509\n",
      "Name: count, dtype: int64\n",
      "mode\n",
      "1    11459\n",
      "0     6537\n",
      "Name: count, dtype: int64\n",
      "time_signature\n",
      "4    16451\n",
      "3     1228\n",
      "5      203\n",
      "1      114\n",
      "Name: count, dtype: int64\n",
      "Class\n",
      "10    4949\n",
      "6     2587\n",
      "9     2524\n",
      "8     1854\n",
      "5     1447\n",
      "1     1373\n",
      "2     1272\n",
      "0      625\n",
      "7      576\n",
      "3      402\n",
      "4      387\n",
      "Name: count, dtype: int64\n"
     ]
    }
   ],
   "source": [
    "for i in cat_cols:\n",
    "    print(data_f[i].value_counts())"
   ]
  },
  {
   "cell_type": "code",
   "execution_count": 13,
   "id": "d4b676b5-8860-443f-b954-31ebb7d08c0f",
   "metadata": {},
   "outputs": [
    {
     "name": "stdout",
     "output_type": "stream",
     "text": [
      "Class\n",
      "10    25\n",
      "8     18\n",
      "7     13\n",
      "2     11\n",
      "6     11\n",
      "0     10\n",
      "1     10\n",
      "9      7\n",
      "5      6\n",
      "3      3\n",
      "Name: count, dtype: int64\n",
      "Class\n",
      "10    250\n",
      "2     183\n",
      "8     153\n",
      "6     140\n",
      "7     128\n",
      "9     109\n",
      "0      73\n",
      "3      67\n",
      "1      60\n",
      "5      39\n",
      "4      26\n",
      "Name: count, dtype: int64\n",
      "Class\n",
      "5     44\n",
      "10    32\n",
      "9     31\n",
      "6     30\n",
      "8     20\n",
      "0     15\n",
      "7     11\n",
      "1     10\n",
      "2      6\n",
      "3      4\n",
      "Name: count, dtype: int64\n"
     ]
    }
   ],
   "source": [
    "for i in (1, 3, 5):\n",
    "    print(data_f.loc[data.time_signature == i].Class.value_counts())"
   ]
  },
  {
   "cell_type": "code",
   "execution_count": 15,
   "id": "b75ada77-677d-4d05-89ab-dc5a1ac65640",
   "metadata": {},
   "outputs": [
    {
     "data": {
      "text/plain": [
       "Popularity\n",
       "42.0     460\n",
       "41.0     442\n",
       "43.0     433\n",
       "34.0     431\n",
       "37.0     420\n",
       "        ... \n",
       "93.0       4\n",
       "96.0       3\n",
       "100.0      2\n",
       "98.0       1\n",
       "99.0       1\n",
       "Name: count, Length: 100, dtype: int64"
      ]
     },
     "execution_count": 15,
     "metadata": {},
     "output_type": "execute_result"
    }
   ],
   "source": [
    "data_f.Popularity.value_counts()"
   ]
  },
  {
   "cell_type": "markdown",
   "id": "214fc254-49a5-4f81-bdd9-9e3c4f219036",
   "metadata": {},
   "source": [
    "Это всё явно категории. `time_signature` - очень несбалансирован. При этом, его редкие лейблы не соответствуют какому-то определённому классу. Фактически, можно убрать параметр.\n",
    "\n",
    "И целевой лейбл `Class` тоже несбалансирован. Запомним.\n",
    "\n",
    "Ещё `Popularity` можно было бы рассматривать, как категорию, но у параметра много значений и они довольно хорошо распределены (как увидим чуть ниже на вайолин-плоте). Оставляем как численную.\n",
    "\n",
    "И посмотрим на численные параметры."
   ]
  },
  {
   "cell_type": "code",
   "execution_count": 64,
   "id": "d09ba774-1a90-4e01-a57c-d149d0cdbe3b",
   "metadata": {},
   "outputs": [],
   "source": [
    "data_f.pop('time_signature');"
   ]
  },
  {
   "cell_type": "code",
   "execution_count": 18,
   "id": "134379e2-236a-435c-a550-9543d0261dd5",
   "metadata": {},
   "outputs": [],
   "source": [
    "cat_cols = ['key', 'mode', 'Class']\n",
    "num_cols = data_f.columns.difference(cat_cols)"
   ]
  },
  {
   "cell_type": "code",
   "execution_count": 19,
   "id": "fdaf1d74-88a1-47b6-9f15-c0541ff6659f",
   "metadata": {},
   "outputs": [
    {
     "data": {
      "text/html": [
       "<div>\n",
       "<style scoped>\n",
       "    .dataframe tbody tr th:only-of-type {\n",
       "        vertical-align: middle;\n",
       "    }\n",
       "\n",
       "    .dataframe tbody tr th {\n",
       "        vertical-align: top;\n",
       "    }\n",
       "\n",
       "    .dataframe thead th {\n",
       "        text-align: right;\n",
       "    }\n",
       "</style>\n",
       "<table border=\"1\" class=\"dataframe\">\n",
       "  <thead>\n",
       "    <tr style=\"text-align: right;\">\n",
       "      <th></th>\n",
       "      <th>Popularity</th>\n",
       "      <th>danceability</th>\n",
       "      <th>energy</th>\n",
       "      <th>loudness</th>\n",
       "      <th>speechiness</th>\n",
       "      <th>acousticness</th>\n",
       "      <th>instrumentalness</th>\n",
       "      <th>liveness</th>\n",
       "      <th>valence</th>\n",
       "      <th>tempo</th>\n",
       "      <th>duration_in min/ms</th>\n",
       "    </tr>\n",
       "  </thead>\n",
       "  <tbody>\n",
       "    <tr>\n",
       "      <th>count</th>\n",
       "      <td>17568.000000</td>\n",
       "      <td>17996.000000</td>\n",
       "      <td>17996.000000</td>\n",
       "      <td>17996.000000</td>\n",
       "      <td>17996.000000</td>\n",
       "      <td>17996.000000</td>\n",
       "      <td>13619.000000</td>\n",
       "      <td>17996.000000</td>\n",
       "      <td>17996.000000</td>\n",
       "      <td>17996.000000</td>\n",
       "      <td>1.799600e+04</td>\n",
       "    </tr>\n",
       "    <tr>\n",
       "      <th>mean</th>\n",
       "      <td>44.512124</td>\n",
       "      <td>0.543433</td>\n",
       "      <td>0.662777</td>\n",
       "      <td>-7.910660</td>\n",
       "      <td>0.079707</td>\n",
       "      <td>0.247082</td>\n",
       "      <td>0.177562</td>\n",
       "      <td>0.196170</td>\n",
       "      <td>0.486208</td>\n",
       "      <td>122.623294</td>\n",
       "      <td>2.007445e+05</td>\n",
       "    </tr>\n",
       "    <tr>\n",
       "      <th>std</th>\n",
       "      <td>17.426928</td>\n",
       "      <td>0.166268</td>\n",
       "      <td>0.235373</td>\n",
       "      <td>4.049151</td>\n",
       "      <td>0.083576</td>\n",
       "      <td>0.310632</td>\n",
       "      <td>0.304048</td>\n",
       "      <td>0.159212</td>\n",
       "      <td>0.240195</td>\n",
       "      <td>29.571527</td>\n",
       "      <td>1.119891e+05</td>\n",
       "    </tr>\n",
       "    <tr>\n",
       "      <th>min</th>\n",
       "      <td>1.000000</td>\n",
       "      <td>0.059600</td>\n",
       "      <td>0.000020</td>\n",
       "      <td>-39.952000</td>\n",
       "      <td>0.022500</td>\n",
       "      <td>0.000000</td>\n",
       "      <td>0.000001</td>\n",
       "      <td>0.011900</td>\n",
       "      <td>0.018300</td>\n",
       "      <td>30.557000</td>\n",
       "      <td>5.016500e-01</td>\n",
       "    </tr>\n",
       "    <tr>\n",
       "      <th>25%</th>\n",
       "      <td>33.000000</td>\n",
       "      <td>0.432000</td>\n",
       "      <td>0.509000</td>\n",
       "      <td>-9.538000</td>\n",
       "      <td>0.034800</td>\n",
       "      <td>0.004300</td>\n",
       "      <td>0.000089</td>\n",
       "      <td>0.097500</td>\n",
       "      <td>0.297000</td>\n",
       "      <td>99.620750</td>\n",
       "      <td>1.663370e+05</td>\n",
       "    </tr>\n",
       "    <tr>\n",
       "      <th>50%</th>\n",
       "      <td>44.000000</td>\n",
       "      <td>0.545000</td>\n",
       "      <td>0.700000</td>\n",
       "      <td>-7.016000</td>\n",
       "      <td>0.047400</td>\n",
       "      <td>0.081400</td>\n",
       "      <td>0.003910</td>\n",
       "      <td>0.129000</td>\n",
       "      <td>0.481000</td>\n",
       "      <td>120.065500</td>\n",
       "      <td>2.091600e+05</td>\n",
       "    </tr>\n",
       "    <tr>\n",
       "      <th>75%</th>\n",
       "      <td>56.000000</td>\n",
       "      <td>0.659000</td>\n",
       "      <td>0.860000</td>\n",
       "      <td>-5.189000</td>\n",
       "      <td>0.083000</td>\n",
       "      <td>0.434000</td>\n",
       "      <td>0.200000</td>\n",
       "      <td>0.258000</td>\n",
       "      <td>0.672000</td>\n",
       "      <td>141.969250</td>\n",
       "      <td>2.524900e+05</td>\n",
       "    </tr>\n",
       "    <tr>\n",
       "      <th>max</th>\n",
       "      <td>100.000000</td>\n",
       "      <td>0.989000</td>\n",
       "      <td>1.000000</td>\n",
       "      <td>1.355000</td>\n",
       "      <td>0.955000</td>\n",
       "      <td>0.996000</td>\n",
       "      <td>0.996000</td>\n",
       "      <td>1.000000</td>\n",
       "      <td>0.986000</td>\n",
       "      <td>217.416000</td>\n",
       "      <td>1.477187e+06</td>\n",
       "    </tr>\n",
       "  </tbody>\n",
       "</table>\n",
       "</div>"
      ],
      "text/plain": [
       "         Popularity  danceability        energy      loudness   speechiness  \\\n",
       "count  17568.000000  17996.000000  17996.000000  17996.000000  17996.000000   \n",
       "mean      44.512124      0.543433      0.662777     -7.910660      0.079707   \n",
       "std       17.426928      0.166268      0.235373      4.049151      0.083576   \n",
       "min        1.000000      0.059600      0.000020    -39.952000      0.022500   \n",
       "25%       33.000000      0.432000      0.509000     -9.538000      0.034800   \n",
       "50%       44.000000      0.545000      0.700000     -7.016000      0.047400   \n",
       "75%       56.000000      0.659000      0.860000     -5.189000      0.083000   \n",
       "max      100.000000      0.989000      1.000000      1.355000      0.955000   \n",
       "\n",
       "       acousticness  instrumentalness      liveness       valence  \\\n",
       "count  17996.000000      13619.000000  17996.000000  17996.000000   \n",
       "mean       0.247082          0.177562      0.196170      0.486208   \n",
       "std        0.310632          0.304048      0.159212      0.240195   \n",
       "min        0.000000          0.000001      0.011900      0.018300   \n",
       "25%        0.004300          0.000089      0.097500      0.297000   \n",
       "50%        0.081400          0.003910      0.129000      0.481000   \n",
       "75%        0.434000          0.200000      0.258000      0.672000   \n",
       "max        0.996000          0.996000      1.000000      0.986000   \n",
       "\n",
       "              tempo  duration_in min/ms  \n",
       "count  17996.000000        1.799600e+04  \n",
       "mean     122.623294        2.007445e+05  \n",
       "std       29.571527        1.119891e+05  \n",
       "min       30.557000        5.016500e-01  \n",
       "25%       99.620750        1.663370e+05  \n",
       "50%      120.065500        2.091600e+05  \n",
       "75%      141.969250        2.524900e+05  \n",
       "max      217.416000        1.477187e+06  "
      ]
     },
     "execution_count": 19,
     "metadata": {},
     "output_type": "execute_result"
    }
   ],
   "source": [
    "data_f.drop(cat_cols, axis=1).describe()"
   ]
  },
  {
   "cell_type": "code",
   "execution_count": 20,
   "id": "abf891b3-db5c-4116-b53e-dcaeb5bc1e2c",
   "metadata": {},
   "outputs": [
    {
     "name": "stderr",
     "output_type": "stream",
     "text": [
      "/home/holydiver/.local/lib/python3.10/site-packages/seaborn/_base.py:948: FutureWarning: When grouping with a length-1 list-like, you will need to pass a length-1 tuple to get_group in a future version of pandas. Pass `(name,)` instead of `name` to silence this warning.\n",
      "  data_subset = grouped_data.get_group(pd_key)\n",
      "/home/holydiver/.local/lib/python3.10/site-packages/seaborn/_base.py:948: FutureWarning: When grouping with a length-1 list-like, you will need to pass a length-1 tuple to get_group in a future version of pandas. Pass `(name,)` instead of `name` to silence this warning.\n",
      "  data_subset = grouped_data.get_group(pd_key)\n",
      "/home/holydiver/.local/lib/python3.10/site-packages/seaborn/_base.py:948: FutureWarning: When grouping with a length-1 list-like, you will need to pass a length-1 tuple to get_group in a future version of pandas. Pass `(name,)` instead of `name` to silence this warning.\n",
      "  data_subset = grouped_data.get_group(pd_key)\n",
      "/home/holydiver/.local/lib/python3.10/site-packages/seaborn/_base.py:948: FutureWarning: When grouping with a length-1 list-like, you will need to pass a length-1 tuple to get_group in a future version of pandas. Pass `(name,)` instead of `name` to silence this warning.\n",
      "  data_subset = grouped_data.get_group(pd_key)\n",
      "/home/holydiver/.local/lib/python3.10/site-packages/seaborn/_base.py:948: FutureWarning: When grouping with a length-1 list-like, you will need to pass a length-1 tuple to get_group in a future version of pandas. Pass `(name,)` instead of `name` to silence this warning.\n",
      "  data_subset = grouped_data.get_group(pd_key)\n",
      "/home/holydiver/.local/lib/python3.10/site-packages/seaborn/_base.py:948: FutureWarning: When grouping with a length-1 list-like, you will need to pass a length-1 tuple to get_group in a future version of pandas. Pass `(name,)` instead of `name` to silence this warning.\n",
      "  data_subset = grouped_data.get_group(pd_key)\n",
      "/home/holydiver/.local/lib/python3.10/site-packages/seaborn/_base.py:948: FutureWarning: When grouping with a length-1 list-like, you will need to pass a length-1 tuple to get_group in a future version of pandas. Pass `(name,)` instead of `name` to silence this warning.\n",
      "  data_subset = grouped_data.get_group(pd_key)\n",
      "/home/holydiver/.local/lib/python3.10/site-packages/seaborn/_base.py:948: FutureWarning: When grouping with a length-1 list-like, you will need to pass a length-1 tuple to get_group in a future version of pandas. Pass `(name,)` instead of `name` to silence this warning.\n",
      "  data_subset = grouped_data.get_group(pd_key)\n",
      "/home/holydiver/.local/lib/python3.10/site-packages/seaborn/_base.py:948: FutureWarning: When grouping with a length-1 list-like, you will need to pass a length-1 tuple to get_group in a future version of pandas. Pass `(name,)` instead of `name` to silence this warning.\n",
      "  data_subset = grouped_data.get_group(pd_key)\n",
      "/home/holydiver/.local/lib/python3.10/site-packages/seaborn/_base.py:948: FutureWarning: When grouping with a length-1 list-like, you will need to pass a length-1 tuple to get_group in a future version of pandas. Pass `(name,)` instead of `name` to silence this warning.\n",
      "  data_subset = grouped_data.get_group(pd_key)\n",
      "/home/holydiver/.local/lib/python3.10/site-packages/seaborn/_base.py:948: FutureWarning: When grouping with a length-1 list-like, you will need to pass a length-1 tuple to get_group in a future version of pandas. Pass `(name,)` instead of `name` to silence this warning.\n",
      "  data_subset = grouped_data.get_group(pd_key)\n"
     ]
    },
    {
     "data": {
      "image/png": "[encoded data removed]",
      "text/plain": [
       "<Figure size 1100x1000 with 12 Axes>"
      ]
     },
     "metadata": {},
     "output_type": "display_data"
    }
   ],
   "source": [
    "fig, axes = plt.subplots(nrows=4, ncols=3, figsize=(11, 10))\n",
    "\n",
    "for i in range(data_f[num_cols].columns.size):\n",
    "    feature = data_f[num_cols].columns[i]\n",
    "    sns.violinplot(x=data_f[feature], ax=axes[i//3, i%3], inner=\"quartile\", color='lightblue')\n",
    "\n",
    "plt.tight_layout()\n",
    "plt.show();"
   ]
  },
  {
   "cell_type": "markdown",
   "id": "40a62e64-0d2b-41c8-adb1-c5682a1033d3",
   "metadata": {},
   "source": [
    "Данные распределены довольно неравномерно, есть явные выбросы. Но их не так много, оставим датасет без фильтрации."
   ]
  },
  {
   "cell_type": "markdown",
   "id": "dc543c65-f005-4dab-bc99-a02e19bc87d9",
   "metadata": {},
   "source": [
    "**Пропущенные значения**\n",
    "\n",
    "Для них можно использовать разные стратегии: оставить, выбросить или заполнить.\n",
    "\n",
    "Попробуем заполнить, для интереса и тренировки (выбрасывать давно умеем)."
   ]
  },
  {
   "cell_type": "code",
   "execution_count": 23,
   "id": "8f293845-487e-4370-929f-d887904dc79d",
   "metadata": {},
   "outputs": [],
   "source": [
    "imp_num = SimpleImputer(strategy='mean')\n",
    "imp_cat = SimpleImputer(strategy='most_frequent')"
   ]
  },
  {
   "cell_type": "code",
   "execution_count": 52,
   "id": "6b0be20b-42e3-449f-8737-f9c06a48f589",
   "metadata": {},
   "outputs": [],
   "source": [
    "data_f_imp = data_f.copy()\n",
    "data_f_imp.loc[ : , cat_cols] = imp_cat.fit_transform(data_f_imp.loc[ : , cat_cols])\n",
    "data_f_imp.loc[ : , num_cols] = imp_num.fit_transform(data_f_imp.loc[ : , num_cols])"
   ]
  },
  {
   "cell_type": "code",
   "execution_count": 53,
   "id": "f9c40f19-2a0a-4d7c-a722-44e6506f3b26",
   "metadata": {},
   "outputs": [
    {
     "data": {
      "text/plain": [
       "0"
      ]
     },
     "execution_count": 53,
     "metadata": {},
     "output_type": "execute_result"
    }
   ],
   "source": [
    "data_f_imp.isna().sum().sum()"
   ]
  },
  {
   "cell_type": "code",
   "execution_count": 54,
   "id": "2b8fdefc-5b5d-4f0d-9062-af573512dcfc",
   "metadata": {},
   "outputs": [
    {
     "data": {
      "text/html": [
       "<div>\n",
       "<style scoped>\n",
       "    .dataframe tbody tr th:only-of-type {\n",
       "        vertical-align: middle;\n",
       "    }\n",
       "\n",
       "    .dataframe tbody tr th {\n",
       "        vertical-align: top;\n",
       "    }\n",
       "\n",
       "    .dataframe thead th {\n",
       "        text-align: right;\n",
       "    }\n",
       "</style>\n",
       "<table border=\"1\" class=\"dataframe\">\n",
       "  <thead>\n",
       "    <tr style=\"text-align: right;\">\n",
       "      <th></th>\n",
       "      <th>Popularity</th>\n",
       "      <th>danceability</th>\n",
       "      <th>energy</th>\n",
       "      <th>key</th>\n",
       "      <th>loudness</th>\n",
       "      <th>mode</th>\n",
       "      <th>speechiness</th>\n",
       "      <th>acousticness</th>\n",
       "      <th>instrumentalness</th>\n",
       "      <th>liveness</th>\n",
       "      <th>valence</th>\n",
       "      <th>tempo</th>\n",
       "      <th>duration_in min/ms</th>\n",
       "      <th>Class</th>\n",
       "    </tr>\n",
       "  </thead>\n",
       "  <tbody>\n",
       "    <tr>\n",
       "      <th>0</th>\n",
       "      <td>60.0</td>\n",
       "      <td>0.854</td>\n",
       "      <td>0.564</td>\n",
       "      <td>1.0</td>\n",
       "      <td>-4.964</td>\n",
       "      <td>1</td>\n",
       "      <td>0.0485</td>\n",
       "      <td>0.0171</td>\n",
       "      <td>0.177562</td>\n",
       "      <td>0.0849</td>\n",
       "      <td>0.899</td>\n",
       "      <td>134.071</td>\n",
       "      <td>234596.0</td>\n",
       "      <td>5</td>\n",
       "    </tr>\n",
       "    <tr>\n",
       "      <th>1</th>\n",
       "      <td>54.0</td>\n",
       "      <td>0.382</td>\n",
       "      <td>0.814</td>\n",
       "      <td>3.0</td>\n",
       "      <td>-7.230</td>\n",
       "      <td>1</td>\n",
       "      <td>0.0406</td>\n",
       "      <td>0.0011</td>\n",
       "      <td>0.004010</td>\n",
       "      <td>0.1010</td>\n",
       "      <td>0.569</td>\n",
       "      <td>116.454</td>\n",
       "      <td>251733.0</td>\n",
       "      <td>10</td>\n",
       "    </tr>\n",
       "    <tr>\n",
       "      <th>2</th>\n",
       "      <td>35.0</td>\n",
       "      <td>0.434</td>\n",
       "      <td>0.614</td>\n",
       "      <td>6.0</td>\n",
       "      <td>-8.334</td>\n",
       "      <td>1</td>\n",
       "      <td>0.0525</td>\n",
       "      <td>0.4860</td>\n",
       "      <td>0.000196</td>\n",
       "      <td>0.3940</td>\n",
       "      <td>0.787</td>\n",
       "      <td>147.681</td>\n",
       "      <td>109667.0</td>\n",
       "      <td>6</td>\n",
       "    </tr>\n",
       "  </tbody>\n",
       "</table>\n",
       "</div>"
      ],
      "text/plain": [
       "   Popularity  danceability  energy  key  loudness  mode  speechiness  \\\n",
       "0        60.0         0.854   0.564  1.0    -4.964     1       0.0485   \n",
       "1        54.0         0.382   0.814  3.0    -7.230     1       0.0406   \n",
       "2        35.0         0.434   0.614  6.0    -8.334     1       0.0525   \n",
       "\n",
       "   acousticness  instrumentalness  liveness  valence    tempo  \\\n",
       "0        0.0171          0.177562    0.0849    0.899  134.071   \n",
       "1        0.0011          0.004010    0.1010    0.569  116.454   \n",
       "2        0.4860          0.000196    0.3940    0.787  147.681   \n",
       "\n",
       "   duration_in min/ms  Class  \n",
       "0            234596.0      5  \n",
       "1            251733.0     10  \n",
       "2            109667.0      6  "
      ]
     },
     "execution_count": 54,
     "metadata": {},
     "output_type": "execute_result"
    }
   ],
   "source": [
    "data_f_imp.head(3)  # Красота"
   ]
  },
  {
   "cell_type": "markdown",
   "id": "d7dfab66-247d-423e-a4f9-5891ce11627b",
   "metadata": {},
   "source": [
    "### Задание 2. Обучение дерева решений (10 баллов)\n",
    "\n",
    "Предобработайте признаки так, чтобы их можно было подать в модель дерева решений и обучите ее, постарайтесь подобрать оптимальные гиперпараметры, которые вам известны. Постарайтесь также обосновать выбор метрики в данном случае. При подборе гиперпараметров может помочь `GridSearchCV` [ссылка](https://scikit-learn.org/stable/modules/generated/sklearn.model_selection.GridSearchCV.html)."
   ]
  },
  {
   "cell_type": "markdown",
   "id": "1c71e587-4f4a-456b-9f55-3b70d6f35b67",
   "metadata": {},
   "source": [
    "Количественные данны нормировать не нужно, а качественные перекодируем. При этом `mode` и так бинарный признак, остаётся только `key`."
   ]
  },
  {
   "cell_type": "code",
   "execution_count": 55,
   "id": "47e8b49f-3b9a-49bd-a2b2-ee77aae8ae1a",
   "metadata": {},
   "outputs": [],
   "source": [
    "X = pd.get_dummies(data_f_imp, columns=['key'], drop_first=False, dtype=float)  # кажется, самый простой способ для данного случая"
   ]
  },
  {
   "cell_type": "code",
   "execution_count": 56,
   "id": "e4aaea02-2ac2-4dde-9a73-b803701b7b10",
   "metadata": {},
   "outputs": [
    {
     "data": {
      "text/html": [
       "<div>\n",
       "<style scoped>\n",
       "    .dataframe tbody tr th:only-of-type {\n",
       "        vertical-align: middle;\n",
       "    }\n",
       "\n",
       "    .dataframe tbody tr th {\n",
       "        vertical-align: top;\n",
       "    }\n",
       "\n",
       "    .dataframe thead th {\n",
       "        text-align: right;\n",
       "    }\n",
       "</style>\n",
       "<table border=\"1\" class=\"dataframe\">\n",
       "  <thead>\n",
       "    <tr style=\"text-align: right;\">\n",
       "      <th></th>\n",
       "      <th>Popularity</th>\n",
       "      <th>danceability</th>\n",
       "      <th>energy</th>\n",
       "      <th>loudness</th>\n",
       "      <th>mode</th>\n",
       "      <th>speechiness</th>\n",
       "      <th>acousticness</th>\n",
       "      <th>instrumentalness</th>\n",
       "      <th>liveness</th>\n",
       "      <th>valence</th>\n",
       "      <th>...</th>\n",
       "      <th>key_2.0</th>\n",
       "      <th>key_3.0</th>\n",
       "      <th>key_4.0</th>\n",
       "      <th>key_5.0</th>\n",
       "      <th>key_6.0</th>\n",
       "      <th>key_7.0</th>\n",
       "      <th>key_8.0</th>\n",
       "      <th>key_9.0</th>\n",
       "      <th>key_10.0</th>\n",
       "      <th>key_11.0</th>\n",
       "    </tr>\n",
       "  </thead>\n",
       "  <tbody>\n",
       "    <tr>\n",
       "      <th>0</th>\n",
       "      <td>60.0</td>\n",
       "      <td>0.854</td>\n",
       "      <td>0.564</td>\n",
       "      <td>-4.964</td>\n",
       "      <td>1</td>\n",
       "      <td>0.0485</td>\n",
       "      <td>0.0171</td>\n",
       "      <td>0.177562</td>\n",
       "      <td>0.0849</td>\n",
       "      <td>0.899</td>\n",
       "      <td>...</td>\n",
       "      <td>0.0</td>\n",
       "      <td>0.0</td>\n",
       "      <td>0.0</td>\n",
       "      <td>0.0</td>\n",
       "      <td>0.0</td>\n",
       "      <td>0.0</td>\n",
       "      <td>0.0</td>\n",
       "      <td>0.0</td>\n",
       "      <td>0.0</td>\n",
       "      <td>0.0</td>\n",
       "    </tr>\n",
       "    <tr>\n",
       "      <th>1</th>\n",
       "      <td>54.0</td>\n",
       "      <td>0.382</td>\n",
       "      <td>0.814</td>\n",
       "      <td>-7.230</td>\n",
       "      <td>1</td>\n",
       "      <td>0.0406</td>\n",
       "      <td>0.0011</td>\n",
       "      <td>0.004010</td>\n",
       "      <td>0.1010</td>\n",
       "      <td>0.569</td>\n",
       "      <td>...</td>\n",
       "      <td>0.0</td>\n",
       "      <td>1.0</td>\n",
       "      <td>0.0</td>\n",
       "      <td>0.0</td>\n",
       "      <td>0.0</td>\n",
       "      <td>0.0</td>\n",
       "      <td>0.0</td>\n",
       "      <td>0.0</td>\n",
       "      <td>0.0</td>\n",
       "      <td>0.0</td>\n",
       "    </tr>\n",
       "    <tr>\n",
       "      <th>2</th>\n",
       "      <td>35.0</td>\n",
       "      <td>0.434</td>\n",
       "      <td>0.614</td>\n",
       "      <td>-8.334</td>\n",
       "      <td>1</td>\n",
       "      <td>0.0525</td>\n",
       "      <td>0.4860</td>\n",
       "      <td>0.000196</td>\n",
       "      <td>0.3940</td>\n",
       "      <td>0.787</td>\n",
       "      <td>...</td>\n",
       "      <td>0.0</td>\n",
       "      <td>0.0</td>\n",
       "      <td>0.0</td>\n",
       "      <td>0.0</td>\n",
       "      <td>1.0</td>\n",
       "      <td>0.0</td>\n",
       "      <td>0.0</td>\n",
       "      <td>0.0</td>\n",
       "      <td>0.0</td>\n",
       "      <td>0.0</td>\n",
       "    </tr>\n",
       "  </tbody>\n",
       "</table>\n",
       "<p>3 rows × 24 columns</p>\n",
       "</div>"
      ],
      "text/plain": [
       "   Popularity  danceability  energy  loudness  mode  speechiness  \\\n",
       "0        60.0         0.854   0.564    -4.964     1       0.0485   \n",
       "1        54.0         0.382   0.814    -7.230     1       0.0406   \n",
       "2        35.0         0.434   0.614    -8.334     1       0.0525   \n",
       "\n",
       "   acousticness  instrumentalness  liveness  valence  ...  key_2.0  key_3.0  \\\n",
       "0        0.0171          0.177562    0.0849    0.899  ...      0.0      0.0   \n",
       "1        0.0011          0.004010    0.1010    0.569  ...      0.0      1.0   \n",
       "2        0.4860          0.000196    0.3940    0.787  ...      0.0      0.0   \n",
       "\n",
       "   key_4.0  key_5.0  key_6.0  key_7.0  key_8.0  key_9.0  key_10.0  key_11.0  \n",
       "0      0.0      0.0      0.0      0.0      0.0      0.0       0.0       0.0  \n",
       "1      0.0      0.0      0.0      0.0      0.0      0.0       0.0       0.0  \n",
       "2      0.0      0.0      1.0      0.0      0.0      0.0       0.0       0.0  \n",
       "\n",
       "[3 rows x 24 columns]"
      ]
     },
     "execution_count": 56,
     "metadata": {},
     "output_type": "execute_result"
    }
   ],
   "source": [
    "X.head(3)"
   ]
  },
  {
   "cell_type": "markdown",
   "id": "d94bbdbe-2d7f-409e-8010-9b9189971d90",
   "metadata": {},
   "source": [
    "Всё ок. Подготовим трейн и тест."
   ]
  },
  {
   "cell_type": "code",
   "execution_count": 32,
   "id": "4b8cf292-8c43-4f34-99a7-d8e58a08d15a",
   "metadata": {},
   "outputs": [],
   "source": [
    "y = pd.DataFrame(X.pop('Class'))"
   ]
  },
  {
   "cell_type": "code",
   "execution_count": 33,
   "id": "62883838-07a5-4cc8-b89b-878ff2cdbd6e",
   "metadata": {},
   "outputs": [],
   "source": [
    "X_train, X_test, y_train, y_test = train_test_split(X, \n",
    "                                                    y, \n",
    "                                                    test_size=0.2,\n",
    "                                                    random_state=SEED)"
   ]
  },
  {
   "cell_type": "markdown",
   "id": "47d237da-c5b0-4097-8df6-21318402f38a",
   "metadata": {},
   "source": [
    "Сделаем небольшое тестовое дерево/"
   ]
  },
  {
   "cell_type": "code",
   "execution_count": 34,
   "id": "1cb39c4e-4341-4cf1-b34d-385ed241618a",
   "metadata": {},
   "outputs": [],
   "source": [
    "treecl = DecisionTreeClassifier(max_depth=3, random_state=SEED)"
   ]
  },
  {
   "cell_type": "code",
   "execution_count": 35,
   "id": "7cda9646-594f-403e-a460-0931cd46a843",
   "metadata": {},
   "outputs": [
    {
     "data": {
      "text/html": [
       "<style>#sk-container-id-1 {\n",
       "  /* Definition of color scheme common for light and dark mode */\n",
       "  --sklearn-color-text: black;\n",
       "  --sklearn-color-line: gray;\n",
       "  /* Definition of color scheme for unfitted estimators */\n",
       "  --sklearn-color-unfitted-level-0: #fff5e6;\n",
       "  --sklearn-color-unfitted-level-1: #f6e4d2;\n",
       "  --sklearn-color-unfitted-level-2: #ffe0b3;\n",
       "  --sklearn-color-unfitted-level-3: chocolate;\n",
       "  /* Definition of color scheme for fitted estimators */\n",
       "  --sklearn-color-fitted-level-0: #f0f8ff;\n",
       "  --sklearn-color-fitted-level-1: #d4ebff;\n",
       "  --sklearn-color-fitted-level-2: #b3dbfd;\n",
       "  --sklearn-color-fitted-level-3: cornflowerblue;\n",
       "\n",
       "  /* Specific color for light theme */\n",
       "  --sklearn-color-text-on-default-background: var(--sg-text-color, var(--theme-code-foreground, var(--jp-content-font-color1, black)));\n",
       "  --sklearn-color-background: var(--sg-background-color, var(--theme-background, var(--jp-layout-color0, white)));\n",
       "  --sklearn-color-border-box: var(--sg-text-color, var(--theme-code-foreground, var(--jp-content-font-color1, black)));\n",
       "  --sklearn-color-icon: #696969;\n",
       "\n",
       "  @media (prefers-color-scheme: dark) {\n",
       "    /* Redefinition of color scheme for dark theme */\n",
       "    --sklearn-color-text-on-default-background: var(--sg-text-color, var(--theme-code-foreground, var(--jp-content-font-color1, white)));\n",
       "    --sklearn-color-background: var(--sg-background-color, var(--theme-background, var(--jp-layout-color0, #111)));\n",
       "    --sklearn-color-border-box: var(--sg-text-color, var(--theme-code-foreground, var(--jp-content-font-color1, white)));\n",
       "    --sklearn-color-icon: #878787;\n",
       "  }\n",
       "}\n",
       "\n",
       "#sk-container-id-1 {\n",
       "  color: var(--sklearn-color-text);\n",
       "}\n",
       "\n",
       "#sk-container-id-1 pre {\n",
       "  padding: 0;\n",
       "}\n",
       "\n",
       "#sk-container-id-1 input.sk-hidden--visually {\n",
       "  border: 0;\n",
       "  clip: rect(1px 1px 1px 1px);\n",
       "  clip: rect(1px, 1px, 1px, 1px);\n",
       "  height: 1px;\n",
       "  margin: -1px;\n",
       "  overflow: hidden;\n",
       "  padding: 0;\n",
       "  position: absolute;\n",
       "  width: 1px;\n",
       "}\n",
       "\n",
       "#sk-container-id-1 div.sk-dashed-wrapped {\n",
       "  border: 1px dashed var(--sklearn-color-line);\n",
       "  margin: 0 0.4em 0.5em 0.4em;\n",
       "  box-sizing: border-box;\n",
       "  padding-bottom: 0.4em;\n",
       "  background-color: var(--sklearn-color-background);\n",
       "}\n",
       "\n",
       "#sk-container-id-1 div.sk-container {\n",
       "  /* jupyter's `normalize.less` sets `[hidden] { display: none; }`\n",
       "     but bootstrap.min.css set `[hidden] { display: none !important; }`\n",
       "     so we also need the `!important` here to be able to override the\n",
       "     default hidden behavior on the sphinx rendered scikit-learn.org.\n",
       "     See: https://github.com/scikit-learn/scikit-learn/issues/21755 */\n",
       "  display: inline-block !important;\n",
       "  position: relative;\n",
       "}\n",
       "\n",
       "#sk-container-id-1 div.sk-text-repr-fallback {\n",
       "  display: none;\n",
       "}\n",
       "\n",
       "div.sk-parallel-item,\n",
       "div.sk-serial,\n",
       "div.sk-item {\n",
       "  /* draw centered vertical line to link estimators */\n",
       "  background-image: linear-gradient(var(--sklearn-color-text-on-default-background), var(--sklearn-color-text-on-default-background));\n",
       "  background-size: 2px 100%;\n",
       "  background-repeat: no-repeat;\n",
       "  background-position: center center;\n",
       "}\n",
       "\n",
       "/* Parallel-specific style estimator block */\n",
       "\n",
       "#sk-container-id-1 div.sk-parallel-item::after {\n",
       "  content: \"\";\n",
       "  width: 100%;\n",
       "  border-bottom: 2px solid var(--sklearn-color-text-on-default-background);\n",
       "  flex-grow: 1;\n",
       "}\n",
       "\n",
       "#sk-container-id-1 div.sk-parallel {\n",
       "  display: flex;\n",
       "  align-items: stretch;\n",
       "  justify-content: center;\n",
       "  background-color: var(--sklearn-color-background);\n",
       "  position: relative;\n",
       "}\n",
       "\n",
       "#sk-container-id-1 div.sk-parallel-item {\n",
       "  display: flex;\n",
       "  flex-direction: column;\n",
       "}\n",
       "\n",
       "#sk-container-id-1 div.sk-parallel-item:first-child::after {\n",
       "  align-self: flex-end;\n",
       "  width: 50%;\n",
       "}\n",
       "\n",
       "#sk-container-id-1 div.sk-parallel-item:last-child::after {\n",
       "  align-self: flex-start;\n",
       "  width: 50%;\n",
       "}\n",
       "\n",
       "#sk-container-id-1 div.sk-parallel-item:only-child::after {\n",
       "  width: 0;\n",
       "}\n",
       "\n",
       "/* Serial-specific style estimator block */\n",
       "\n",
       "#sk-container-id-1 div.sk-serial {\n",
       "  display: flex;\n",
       "  flex-direction: column;\n",
       "  align-items: center;\n",
       "  background-color: var(--sklearn-color-background);\n",
       "  padding-right: 1em;\n",
       "  padding-left: 1em;\n",
       "}\n",
       "\n",
       "\n",
       "/* Toggleable style: style used for estimator/Pipeline/ColumnTransformer box that is\n",
       "clickable and can be expanded/collapsed.\n",
       "- Pipeline and ColumnTransformer use this feature and define the default style\n",
       "- Estimators will overwrite some part of the style using the `sk-estimator` class\n",
       "*/\n",
       "\n",
       "/* Pipeline and ColumnTransformer style (default) */\n",
       "\n",
       "#sk-container-id-1 div.sk-toggleable {\n",
       "  /* Default theme specific background. It is overwritten whether we have a\n",
       "  specific estimator or a Pipeline/ColumnTransformer */\n",
       "  background-color: var(--sklearn-color-background);\n",
       "}\n",
       "\n",
       "/* Toggleable label */\n",
       "#sk-container-id-1 label.sk-toggleable__label {\n",
       "  cursor: pointer;\n",
       "  display: block;\n",
       "  width: 100%;\n",
       "  margin-bottom: 0;\n",
       "  padding: 0.5em;\n",
       "  box-sizing: border-box;\n",
       "  text-align: center;\n",
       "}\n",
       "\n",
       "#sk-container-id-1 label.sk-toggleable__label-arrow:before {\n",
       "  /* Arrow on the left of the label */\n",
       "  content: \"▸\";\n",
       "  float: left;\n",
       "  margin-right: 0.25em;\n",
       "  color: var(--sklearn-color-icon);\n",
       "}\n",
       "\n",
       "#sk-container-id-1 label.sk-toggleable__label-arrow:hover:before {\n",
       "  color: var(--sklearn-color-text);\n",
       "}\n",
       "\n",
       "/* Toggleable content - dropdown */\n",
       "\n",
       "#sk-container-id-1 div.sk-toggleable__content {\n",
       "  max-height: 0;\n",
       "  max-width: 0;\n",
       "  overflow: hidden;\n",
       "  text-align: left;\n",
       "  /* unfitted */\n",
       "  background-color: var(--sklearn-color-unfitted-level-0);\n",
       "}\n",
       "\n",
       "#sk-container-id-1 div.sk-toggleable__content.fitted {\n",
       "  /* fitted */\n",
       "  background-color: var(--sklearn-color-fitted-level-0);\n",
       "}\n",
       "\n",
       "#sk-container-id-1 div.sk-toggleable__content pre {\n",
       "  margin: 0.2em;\n",
       "  border-radius: 0.25em;\n",
       "  color: var(--sklearn-color-text);\n",
       "  /* unfitted */\n",
       "  background-color: var(--sklearn-color-unfitted-level-0);\n",
       "}\n",
       "\n",
       "#sk-container-id-1 div.sk-toggleable__content.fitted pre {\n",
       "  /* unfitted */\n",
       "  background-color: var(--sklearn-color-fitted-level-0);\n",
       "}\n",
       "\n",
       "#sk-container-id-1 input.sk-toggleable__control:checked~div.sk-toggleable__content {\n",
       "  /* Expand drop-down */\n",
       "  max-height: 200px;\n",
       "  max-width: 100%;\n",
       "  overflow: auto;\n",
       "}\n",
       "\n",
       "#sk-container-id-1 input.sk-toggleable__control:checked~label.sk-toggleable__label-arrow:before {\n",
       "  content: \"▾\";\n",
       "}\n",
       "\n",
       "/* Pipeline/ColumnTransformer-specific style */\n",
       "\n",
       "#sk-container-id-1 div.sk-label input.sk-toggleable__control:checked~label.sk-toggleable__label {\n",
       "  color: var(--sklearn-color-text);\n",
       "  background-color: var(--sklearn-color-unfitted-level-2);\n",
       "}\n",
       "\n",
       "#sk-container-id-1 div.sk-label.fitted input.sk-toggleable__control:checked~label.sk-toggleable__label {\n",
       "  background-color: var(--sklearn-color-fitted-level-2);\n",
       "}\n",
       "\n",
       "/* Estimator-specific style */\n",
       "\n",
       "/* Colorize estimator box */\n",
       "#sk-container-id-1 div.sk-estimator input.sk-toggleable__control:checked~label.sk-toggleable__label {\n",
       "  /* unfitted */\n",
       "  background-color: var(--sklearn-color-unfitted-level-2);\n",
       "}\n",
       "\n",
       "#sk-container-id-1 div.sk-estimator.fitted input.sk-toggleable__control:checked~label.sk-toggleable__label {\n",
       "  /* fitted */\n",
       "  background-color: var(--sklearn-color-fitted-level-2);\n",
       "}\n",
       "\n",
       "#sk-container-id-1 div.sk-label label.sk-toggleable__label,\n",
       "#sk-container-id-1 div.sk-label label {\n",
       "  /* The background is the default theme color */\n",
       "  color: var(--sklearn-color-text-on-default-background);\n",
       "}\n",
       "\n",
       "/* On hover, darken the color of the background */\n",
       "#sk-container-id-1 div.sk-label:hover label.sk-toggleable__label {\n",
       "  color: var(--sklearn-color-text);\n",
       "  background-color: var(--sklearn-color-unfitted-level-2);\n",
       "}\n",
       "\n",
       "/* Label box, darken color on hover, fitted */\n",
       "#sk-container-id-1 div.sk-label.fitted:hover label.sk-toggleable__label.fitted {\n",
       "  color: var(--sklearn-color-text);\n",
       "  background-color: var(--sklearn-color-fitted-level-2);\n",
       "}\n",
       "\n",
       "/* Estimator label */\n",
       "\n",
       "#sk-container-id-1 div.sk-label label {\n",
       "  font-family: monospace;\n",
       "  font-weight: bold;\n",
       "  display: inline-block;\n",
       "  line-height: 1.2em;\n",
       "}\n",
       "\n",
       "#sk-container-id-1 div.sk-label-container {\n",
       "  text-align: center;\n",
       "}\n",
       "\n",
       "/* Estimator-specific */\n",
       "#sk-container-id-1 div.sk-estimator {\n",
       "  font-family: monospace;\n",
       "  border: 1px dotted var(--sklearn-color-border-box);\n",
       "  border-radius: 0.25em;\n",
       "  box-sizing: border-box;\n",
       "  margin-bottom: 0.5em;\n",
       "  /* unfitted */\n",
       "  background-color: var(--sklearn-color-unfitted-level-0);\n",
       "}\n",
       "\n",
       "#sk-container-id-1 div.sk-estimator.fitted {\n",
       "  /* fitted */\n",
       "  background-color: var(--sklearn-color-fitted-level-0);\n",
       "}\n",
       "\n",
       "/* on hover */\n",
       "#sk-container-id-1 div.sk-estimator:hover {\n",
       "  /* unfitted */\n",
       "  background-color: var(--sklearn-color-unfitted-level-2);\n",
       "}\n",
       "\n",
       "#sk-container-id-1 div.sk-estimator.fitted:hover {\n",
       "  /* fitted */\n",
       "  background-color: var(--sklearn-color-fitted-level-2);\n",
       "}\n",
       "\n",
       "/* Specification for estimator info (e.g. \"i\" and \"?\") */\n",
       "\n",
       "/* Common style for \"i\" and \"?\" */\n",
       "\n",
       ".sk-estimator-doc-link,\n",
       "a:link.sk-estimator-doc-link,\n",
       "a:visited.sk-estimator-doc-link {\n",
       "  float: right;\n",
       "  font-size: smaller;\n",
       "  line-height: 1em;\n",
       "  font-family: monospace;\n",
       "  background-color: var(--sklearn-color-background);\n",
       "  border-radius: 1em;\n",
       "  height: 1em;\n",
       "  width: 1em;\n",
       "  text-decoration: none !important;\n",
       "  margin-left: 1ex;\n",
       "  /* unfitted */\n",
       "  border: var(--sklearn-color-unfitted-level-1) 1pt solid;\n",
       "  color: var(--sklearn-color-unfitted-level-1);\n",
       "}\n",
       "\n",
       ".sk-estimator-doc-link.fitted,\n",
       "a:link.sk-estimator-doc-link.fitted,\n",
       "a:visited.sk-estimator-doc-link.fitted {\n",
       "  /* fitted */\n",
       "  border: var(--sklearn-color-fitted-level-1) 1pt solid;\n",
       "  color: var(--sklearn-color-fitted-level-1);\n",
       "}\n",
       "\n",
       "/* On hover */\n",
       "div.sk-estimator:hover .sk-estimator-doc-link:hover,\n",
       ".sk-estimator-doc-link:hover,\n",
       "div.sk-label-container:hover .sk-estimator-doc-link:hover,\n",
       ".sk-estimator-doc-link:hover {\n",
       "  /* unfitted */\n",
       "  background-color: var(--sklearn-color-unfitted-level-3);\n",
       "  color: var(--sklearn-color-background);\n",
       "  text-decoration: none;\n",
       "}\n",
       "\n",
       "div.sk-estimator.fitted:hover .sk-estimator-doc-link.fitted:hover,\n",
       ".sk-estimator-doc-link.fitted:hover,\n",
       "div.sk-label-container:hover .sk-estimator-doc-link.fitted:hover,\n",
       ".sk-estimator-doc-link.fitted:hover {\n",
       "  /* fitted */\n",
       "  background-color: var(--sklearn-color-fitted-level-3);\n",
       "  color: var(--sklearn-color-background);\n",
       "  text-decoration: none;\n",
       "}\n",
       "\n",
       "/* Span, style for the box shown on hovering the info icon */\n",
       ".sk-estimator-doc-link span {\n",
       "  display: none;\n",
       "  z-index: 9999;\n",
       "  position: relative;\n",
       "  font-weight: normal;\n",
       "  right: .2ex;\n",
       "  padding: .5ex;\n",
       "  margin: .5ex;\n",
       "  width: min-content;\n",
       "  min-width: 20ex;\n",
       "  max-width: 50ex;\n",
       "  color: var(--sklearn-color-text);\n",
       "  box-shadow: 2pt 2pt 4pt #999;\n",
       "  /* unfitted */\n",
       "  background: var(--sklearn-color-unfitted-level-0);\n",
       "  border: .5pt solid var(--sklearn-color-unfitted-level-3);\n",
       "}\n",
       "\n",
       ".sk-estimator-doc-link.fitted span {\n",
       "  /* fitted */\n",
       "  background: var(--sklearn-color-fitted-level-0);\n",
       "  border: var(--sklearn-color-fitted-level-3);\n",
       "}\n",
       "\n",
       ".sk-estimator-doc-link:hover span {\n",
       "  display: block;\n",
       "}\n",
       "\n",
       "/* \"?\"-specific style due to the `<a>` HTML tag */\n",
       "\n",
       "#sk-container-id-1 a.estimator_doc_link {\n",
       "  float: right;\n",
       "  font-size: 1rem;\n",
       "  line-height: 1em;\n",
       "  font-family: monospace;\n",
       "  background-color: var(--sklearn-color-background);\n",
       "  border-radius: 1rem;\n",
       "  height: 1rem;\n",
       "  width: 1rem;\n",
       "  text-decoration: none;\n",
       "  /* unfitted */\n",
       "  color: var(--sklearn-color-unfitted-level-1);\n",
       "  border: var(--sklearn-color-unfitted-level-1) 1pt solid;\n",
       "}\n",
       "\n",
       "#sk-container-id-1 a.estimator_doc_link.fitted {\n",
       "  /* fitted */\n",
       "  border: var(--sklearn-color-fitted-level-1) 1pt solid;\n",
       "  color: var(--sklearn-color-fitted-level-1);\n",
       "}\n",
       "\n",
       "/* On hover */\n",
       "#sk-container-id-1 a.estimator_doc_link:hover {\n",
       "  /* unfitted */\n",
       "  background-color: var(--sklearn-color-unfitted-level-3);\n",
       "  color: var(--sklearn-color-background);\n",
       "  text-decoration: none;\n",
       "}\n",
       "\n",
       "#sk-container-id-1 a.estimator_doc_link.fitted:hover {\n",
       "  /* fitted */\n",
       "  background-color: var(--sklearn-color-fitted-level-3);\n",
       "}\n",
       "</style><div id=\"sk-container-id-1\" class=\"sk-top-container\"><div class=\"sk-text-repr-fallback\"><pre>DecisionTreeClassifier(max_depth=3, random_state=111)</pre><b>In a Jupyter environment, please rerun this cell to show the HTML representation or trust the notebook. <br />On GitHub, the HTML representation is unable to render, please try loading this page with nbviewer.org.</b></div><div class=\"sk-container\" hidden><div class=\"sk-item\"><div class=\"sk-estimator fitted sk-toggleable\"><input class=\"sk-toggleable__control sk-hidden--visually\" id=\"sk-estimator-id-1\" type=\"checkbox\" checked><label for=\"sk-estimator-id-1\" class=\"sk-toggleable__label fitted sk-toggleable__label-arrow fitted\">&nbsp;&nbsp;DecisionTreeClassifier<a class=\"sk-estimator-doc-link fitted\" rel=\"noreferrer\" target=\"_blank\" href=\"https://scikit-learn.org/1.4/modules/generated/sklearn.tree.DecisionTreeClassifier.html\">?<span>Documentation for DecisionTreeClassifier</span></a><span class=\"sk-estimator-doc-link fitted\">i<span>Fitted</span></span></label><div class=\"sk-toggleable__content fitted\"><pre>DecisionTreeClassifier(max_depth=3, random_state=111)</pre></div> </div></div></div></div>"
      ],
      "text/plain": [
       "DecisionTreeClassifier(max_depth=3, random_state=111)"
      ]
     },
     "execution_count": 35,
     "metadata": {},
     "output_type": "execute_result"
    }
   ],
   "source": [
    "treecl.fit(X_train, y_train)"
   ]
  },
  {
   "cell_type": "code",
   "execution_count": 36,
   "id": "8cabe819-1854-43d1-8924-b248e10dd8e2",
   "metadata": {},
   "outputs": [
    {
     "data": {
      "image/png": "[encoded data removed]",
      "text/plain": [
       "<Figure size 1500x800 with 1 Axes>"
      ]
     },
     "metadata": {},
     "output_type": "display_data"
    }
   ],
   "source": [
    "plt.figure(figsize=(15, 8))\n",
    "plot_tree(treecl,\n",
    "         filled=True,\n",
    "         rounded=True,\n",
    "         proportion=True,\n",
    "         fontsize=8);"
   ]
  },
  {
   "cell_type": "markdown",
   "id": "c3ab5181-aa70-4c19-8025-239208a5a185",
   "metadata": {},
   "source": [
    "Дальше рисовать их не будем, уж больно здоровые получаются.\n",
    "\n",
    "Всё работает, можно приступать."
   ]
  },
  {
   "cell_type": "markdown",
   "id": "43f728eb-342b-47b4-a2c3-47a4f6adcc62",
   "metadata": {},
   "source": [
    "**Выбор метрики**\n",
    "\n",
    "В данном случае у нас:\n",
    "- мультиклассы\n",
    "- ни один из них не имеет преимущественного интереса\n",
    "\n",
    "Получается, проще выбрать что-то самое общее. Например `accuracy`.\n",
    "\n",
    "**Выбор параметров**\n",
    "\n",
    "Мощностей у нас немного, так что сильно размахиваться не будем, возьмем качеством, а не количеством."
   ]
  },
  {
   "cell_type": "code",
   "execution_count": 37,
   "id": "23741bdb-8d03-4021-8958-a680ee2a7102",
   "metadata": {},
   "outputs": [],
   "source": [
    "param_grid = {\n",
    "    'criterion': ['gini', 'entropy'],\n",
    "    'max_depth': [None, 5, 10, 15],\n",
    "    'max_features': [None, 'sqrt', 'log2'],\n",
    "    'max_leaf_nodes': [None, 10, 20, 30]\n",
    "}"
   ]
  },
  {
   "cell_type": "code",
   "execution_count": 38,
   "id": "edc860c0-e178-443d-b24a-c5e8a76bdf0c",
   "metadata": {},
   "outputs": [
    {
     "name": "stdout",
     "output_type": "stream",
     "text": [
      "Parameters:  {'criterion': 'gini', 'max_depth': None, 'max_features': None, 'max_leaf_nodes': 30}\n",
      "Accuracy:  0.46825452992937366\n"
     ]
    }
   ],
   "source": [
    "treecl = DecisionTreeClassifier(random_state=SEED)\n",
    "grid_search = GridSearchCV(treecl, param_grid, cv=5, scoring='accuracy')\n",
    "grid_search.fit(X_train, y_train)\n",
    "print('Parameters:', grid_search.best_params_)\n",
    "print('Accuracy:', grid_search.best_score_)\n",
    "# Parameters:  {'criterion': 'gini', 'max_depth': None, 'max_features': None, 'max_leaf_nodes': 30}\n",
    "# Accuracy:  0.46825452992937366"
   ]
  },
  {
   "cell_type": "code",
   "execution_count": 40,
   "id": "6d32f8e2-98df-4a01-9ac9-cf8819cf4268",
   "metadata": {},
   "outputs": [
    {
     "name": "stdout",
     "output_type": "stream",
     "text": [
      "Accuracy:  0.4786111111111111\n"
     ]
    }
   ],
   "source": [
    "best_tree = grid_search.best_estimator_\n",
    "best_tree.fit(X_train, y_train)\n",
    "y_pred = best_tree.predict(X_test)\n",
    "print('Accuracy:',accuracy_score(y_test, y_pred))\n",
    "# 0.4786111111111111"
   ]
  },
  {
   "cell_type": "markdown",
   "id": "7797091b-0a7d-4860-9823-6c44bd5dcee3",
   "metadata": {},
   "source": [
    "Мы помним, что у нас классы достаточно неравномерные, попробуем теперь дерево со взвешенными классами"
   ]
  },
  {
   "cell_type": "code",
   "execution_count": 41,
   "id": "fab7f3ff-a632-4d94-8c7f-b812ecd9a50e",
   "metadata": {},
   "outputs": [
    {
     "name": "stdout",
     "output_type": "stream",
     "text": [
      "Parameters:  {'criterion': 'gini', 'max_depth': 10, 'max_features': None, 'max_leaf_nodes': None}\n",
      "Accuracy:  0.41525406680560384\n"
     ]
    }
   ],
   "source": [
    "treecl = DecisionTreeClassifier(class_weight = 'balanced', random_state=SEED)\n",
    "grid_search = GridSearchCV(treecl, param_grid, cv=5, scoring='accuracy')\n",
    "grid_search.fit(X_train, y_train)\n",
    "\n",
    "print('Parameters:', grid_search.best_params_)\n",
    "print('Accuracy:', grid_search.best_score_)\n",
    "# Parameters:  {'criterion': 'gini', 'max_depth': 10, 'max_features': None, 'max_leaf_nodes': None}\n",
    "# Accuracy:  0.41525406680560384"
   ]
  },
  {
   "cell_type": "code",
   "execution_count": 42,
   "id": "9ebf4970-3fbf-4610-b7f7-ced3f6fb36d1",
   "metadata": {},
   "outputs": [
    {
     "name": "stdout",
     "output_type": "stream",
     "text": [
      "Accuracy:  0.42583333333333334\n"
     ]
    }
   ],
   "source": [
    "best_tree = grid_search.best_estimator_\n",
    "best_tree.fit(X_train, y_train)\n",
    "y_pred = best_tree.predict(X_test)\n",
    "\n",
    "print('Accuracy:', accuracy_score(y_test, y_pred))\n",
    "# Accuracy: 0.42583333333333334"
   ]
  },
  {
   "cell_type": "markdown",
   "id": "77b10f17-2de6-48a7-82b6-eadef302b18c",
   "metadata": {},
   "source": [
    "А теперь попробуем изменить и метрику на взвешенную точность, классы оставим"
   ]
  },
  {
   "cell_type": "code",
   "execution_count": 43,
   "id": "2b287b91-d6dd-46bd-9d21-bb2518a33a19",
   "metadata": {},
   "outputs": [
    {
     "name": "stdout",
     "output_type": "stream",
     "text": [
      "Parameters:  {'criterion': 'entropy', 'max_depth': 10, 'max_features': None, 'max_leaf_nodes': None}\n",
      "Balanced accuracy:  0.5310910105067063\n"
     ]
    }
   ],
   "source": [
    "treecl = DecisionTreeClassifier(class_weight='balanced', random_state=SEED)\n",
    "grid_search = GridSearchCV(treecl, param_grid, cv=5, scoring='balanced_accuracy')\n",
    "grid_search.fit(X_train, y_train)\n",
    "\n",
    "print('Parameters:', grid_search.best_params_)\n",
    "print('Balanced accuracy:', grid_search.best_score_)\n",
    "# Parameters:  {'criterion': 'entropy', 'max_depth': 10, 'max_features': None, 'max_leaf_nodes': None}\n",
    "# Balanced accuracy:  0.5310910105067063"
   ]
  },
  {
   "cell_type": "code",
   "execution_count": 44,
   "id": "84b7a6d1-815f-45a1-ae27-a155065c1553",
   "metadata": {},
   "outputs": [
    {
     "name": "stdout",
     "output_type": "stream",
     "text": [
      "Accuracy:  0.40305555555555556\n",
      "Balanced accuracy:  0.5326832172807052\n"
     ]
    }
   ],
   "source": [
    "best_tree = grid_search.best_estimator_\n",
    "best_tree.fit(X_train, y_train)\n",
    "y_pred = best_tree.predict(X_test)\n",
    "\n",
    "print('Accuracy:', accuracy_score(y_test, y_pred))\n",
    "# Accuracy: 0.40305555555555556\n",
    "print('Balanced accuracy:', balanced_accuracy_score(y_test, y_pred))\n",
    "# Balanced accuracy: 0.5326832172807052"
   ]
  },
  {
   "cell_type": "markdown",
   "id": "0dd06f86-8bec-4d25-890f-3d11b3ef3d8d",
   "metadata": {},
   "source": [
    "Теперь только со взвешенной точностью"
   ]
  },
  {
   "cell_type": "code",
   "execution_count": 45,
   "id": "9d8a49d5-1737-4d93-be73-0fed8100b692",
   "metadata": {},
   "outputs": [
    {
     "name": "stdout",
     "output_type": "stream",
     "text": [
      "Parameters:  {'criterion': 'entropy', 'max_depth': 10, 'max_features': None, 'max_leaf_nodes': None}\n",
      "Balanced accuracy:  0.5001586733814987\n"
     ]
    }
   ],
   "source": [
    "treecl = DecisionTreeClassifier(random_state=SEED)\n",
    "grid_search = GridSearchCV(treecl, param_grid, cv=5, scoring='balanced_accuracy')\n",
    "grid_search.fit(X_train, y_train)\n",
    "\n",
    "print('Parameters:', grid_search.best_params_)\n",
    "print('Balanced accuracy:', grid_search.best_score_)\n",
    "# Parameters:  {'criterion': 'entropy', 'max_depth': 10, 'max_features': None, 'max_leaf_nodes': None}\n",
    "# Balanced accuracy:  0.5001586733814987"
   ]
  },
  {
   "cell_type": "code",
   "execution_count": 46,
   "id": "d0c3edff-fc6d-44fb-8b15-33b2c83b19a5",
   "metadata": {},
   "outputs": [
    {
     "name": "stdout",
     "output_type": "stream",
     "text": [
      "Accuracy:  0.48305555555555557\n",
      "Balanced accuracy:  0.530775987830041\n"
     ]
    }
   ],
   "source": [
    "best_tree = grid_search.best_estimator_\n",
    "best_tree.fit(X_train, y_train)\n",
    "y_pred = best_tree.predict(X_test)\n",
    "\n",
    "print('Accuracy:', accuracy_score(y_test, y_pred))\n",
    "# Accuracy: 0.48305555555555557\n",
    "print('Balanced accuracy:', balanced_accuracy_score(y_test, y_pred))\n",
    "# Balanced accuracy: 0.530775987830041"
   ]
  },
  {
   "cell_type": "markdown",
   "id": "5468ad97-3ed5-438f-b049-1806150fb9ac",
   "metadata": {},
   "source": [
    "Интересно, эта метрика дала максимально значение и для простой точности, а взвешенные классы сработали не очень. Попробуем сделать ещё подбор параметров. И добавим вариантов глубины дерева, раз этот параметр оказался равен 10 в лучшей модели."
   ]
  },
  {
   "cell_type": "markdown",
   "id": "a4e6b356-c1c9-46c1-becb-1d80ecdf2c72",
   "metadata": {},
   "source": [
    "Здесь должно быть много ячеек с разными вариантами `GridSearch`, где я понемножку, чтоб сильно не подвисало, подгонял параметры. Оставляю самый лучший вариант."
   ]
  },
  {
   "cell_type": "code",
   "execution_count": 75,
   "id": "5d9706fb-ee54-44ea-b572-d62752d97f42",
   "metadata": {},
   "outputs": [],
   "source": [
    "param_grid = {\n",
    "    'criterion': ['gini', 'entropy'],\n",
    "    'max_depth': [8, 10, 12],\n",
    "    'min_samples_split': [27, 30, 33],\n",
    "    'min_samples_leaf': [1, 5, 10, 15],\n",
    "    'max_leaf_nodes': [None, 20, 30, 40]\n",
    "}"
   ]
  },
  {
   "cell_type": "code",
   "execution_count": 48,
   "id": "46392f42-5466-4706-943b-d0ba19b73bad",
   "metadata": {},
   "outputs": [
    {
     "name": "stdout",
     "output_type": "stream",
     "text": [
      "Parameters:  {'criterion': 'entropy', 'max_depth': 10, 'max_leaf_nodes': None, 'min_samples_leaf': 5, 'min_samples_split': 27}\n",
      "Balanced accuracy:  0.5160179655625016\n"
     ]
    }
   ],
   "source": [
    "treecl = DecisionTreeClassifier(random_state=SEED)\n",
    "grid_search = GridSearchCV(treecl, param_grid, cv=5, scoring='balanced_accuracy')\n",
    "grid_search.fit(X_train, y_train)\n",
    "print('Parameters:', grid_search.best_params_)\n",
    "print('Balanced accuracy:', grid_search.best_score_)\n",
    "# Parameters:  {'criterion': 'entropy', 'max_depth': 10, 'max_leaf_nodes': None, 'min_samples_leaf': 5, 'min_samples_split': 27}\n",
    "# Balanced accuracy:  0.5160179655625016"
   ]
  },
  {
   "cell_type": "code",
   "execution_count": 51,
   "id": "f4537c43-f655-4e98-88eb-0d18240febaf",
   "metadata": {},
   "outputs": [
    {
     "name": "stdout",
     "output_type": "stream",
     "text": [
      "Accuracy:  0.48638888888888887\n",
      "Balanced accuracy:  0.5326137659120989\n"
     ]
    }
   ],
   "source": [
    "best_tree = grid_search.best_estimator_\n",
    "best_tree.fit(X_train, y_train)\n",
    "y_pred = best_tree.predict(X_test)\n",
    "\n",
    "print('Accuracy:', accuracy_score(y_test, y_pred))\n",
    "# Accuracy: 0.48638888888888887\n",
    "print('Balanced accuracy:', balanced_accuracy_score(y_test, y_pred))\n",
    "# Balanced accuracy: 0.5326137659120989"
   ]
  },
  {
   "cell_type": "markdown",
   "id": "b3d6afc7-11e8-4dbb-8494-714e684eec72",
   "metadata": {},
   "source": [
    "А теперь интересно проверить два других варианта работы с пропущенными значениями на вот этом последнем варианте модели.\n",
    "\n",
    "Сначала узнаем, надо ли было вообще что-то делать."
   ]
  },
  {
   "cell_type": "code",
   "execution_count": 67,
   "id": "379f1b6f-aabb-41c3-80e9-052bf4cd0ac2",
   "metadata": {},
   "outputs": [],
   "source": [
    "X_na = data_f.copy()\n",
    "y_na = pd.DataFrame(X_na.pop('Class'))"
   ]
  },
  {
   "cell_type": "code",
   "execution_count": 68,
   "id": "901f0135-5734-4428-982c-fb7bfbae8941",
   "metadata": {},
   "outputs": [],
   "source": [
    "X_train_na, X_test_na, y_train_na, y_test_na = train_test_split(X_na, \n",
    "                                                    y_na, \n",
    "                                                    test_size=0.2,\n",
    "                                                    random_state=SEED)"
   ]
  },
  {
   "cell_type": "code",
   "execution_count": 69,
   "id": "b16171e0-e686-4259-90ed-ce58803a888f",
   "metadata": {},
   "outputs": [
    {
     "name": "stdout",
     "output_type": "stream",
     "text": [
      "Accuracy:  0.47555555555555556\n",
      "Balanced accuracy:  0.5174101518527917\n"
     ]
    }
   ],
   "source": [
    "treecl_na = DecisionTreeClassifier(criterion='entropy', max_depth=10, min_samples_leaf=5, min_samples_split=27, random_state=SEED)\n",
    "treecl_na.fit(X_train_na, y_train_na)\n",
    "y_pred_na = treecl_na.predict(X_test_na)\n",
    "\n",
    "print('Accuracy:', accuracy_score(y_test_na, y_pred_na))\n",
    "# Accuracy: 0.47555555555555556\n",
    "print('Balanced accuracy:', balanced_accuracy_score(y_test_na, y_pred_na))\n",
    "# Balanced accuracy: 0.5174101518527917"
   ]
  },
  {
   "cell_type": "markdown",
   "id": "a68782b1-9ce0-43f3-b44a-d8aa9d482acd",
   "metadata": {},
   "source": [
    "А теперь узнаем, много ли мы теряем, выкидывая данные."
   ]
  },
  {
   "cell_type": "code",
   "execution_count": 70,
   "id": "3c7baa36-8521-40a8-acab-8060b9ec656c",
   "metadata": {},
   "outputs": [],
   "source": [
    "X_drop = data_f.dropna()"
   ]
  },
  {
   "cell_type": "code",
   "execution_count": 71,
   "id": "6e7e3e2d-6f61-42da-93bc-7d3210828186",
   "metadata": {},
   "outputs": [
    {
     "name": "stdout",
     "output_type": "stream",
     "text": [
      "0\n",
      "(11813, 14)\n"
     ]
    }
   ],
   "source": [
    "print(X_drop.isna().sum().sum())\n",
    "print(X_drop.shape)"
   ]
  },
  {
   "cell_type": "code",
   "execution_count": 72,
   "id": "23ecebaa-3e17-4679-8c87-a1dac6d9de75",
   "metadata": {},
   "outputs": [],
   "source": [
    "y_drop = pd.DataFrame(X_drop.pop('Class'))"
   ]
  },
  {
   "cell_type": "code",
   "execution_count": 73,
   "id": "5ad56ed8-e5ce-4e67-b363-6bd8ff87d4a0",
   "metadata": {},
   "outputs": [],
   "source": [
    "X_train_drop, X_test_drop, y_train_drop, y_test_drop = train_test_split(X_drop, \n",
    "                                                    y_drop, \n",
    "                                                    test_size=0.2,\n",
    "                                                    random_state=SEED)"
   ]
  },
  {
   "cell_type": "code",
   "execution_count": 74,
   "id": "a1c74bcc-76fd-4f47-9bab-cafa152e20c3",
   "metadata": {},
   "outputs": [
    {
     "name": "stdout",
     "output_type": "stream",
     "text": [
      "Accuracy:  0.4921709691070673\n",
      "Balanced accuracy:  0.5391490936356166\n"
     ]
    }
   ],
   "source": [
    "treecl_drop = DecisionTreeClassifier(criterion='entropy', max_depth=10, min_samples_leaf=5, min_samples_split=27, random_state=SEED)\n",
    "treecl_drop.fit(X_train_drop, y_train_drop)\n",
    "y_pred_drop = treecl_na.predict(X_test_drop)\n",
    "\n",
    "print('Accuracy:', accuracy_score(y_test_drop, y_pred_drop))\n",
    "# Accuracy: 0.4921709691070673\n",
    "print('Balanced accuracy:', balanced_accuracy_score(y_test_drop, y_pred_drop))\n",
    "# Balanced accuracy: 0.5391490936356166"
   ]
  },
  {
   "cell_type": "markdown",
   "id": "3bbc75b2-7975-4bd3-930c-0d1ac862b6e2",
   "metadata": {},
   "source": [
    "Вот так интересно получилось: для урезанного датасета метрики получше.\n",
    "\n",
    "После impute:\n",
    "Accuracy:  0.486\n",
    "Balanced accuracy:  0.533\n",
    "\n",
    "Без обработки:\n",
    "Accuracy:  0.476\n",
    "Balanced accuracy:  0.517\n",
    "\n",
    "После удаления:\n",
    "Accuracy:  0.492\n",
    "Balanced accuracy:  0.539"
   ]
  },
  {
   "cell_type": "markdown",
   "id": "bd96b0de-9661-4885-aca1-3e144b8ca9c8",
   "metadata": {},
   "source": [
    "Раз такое дело, под конец проверим, как сработает `GridSearch` с последним набором параметров на обрезанных данных и с сохранением пропусков."
   ]
  },
  {
   "cell_type": "code",
   "execution_count": 77,
   "id": "3ace5f6b-f572-47c5-b2b2-45edb66d8bc2",
   "metadata": {},
   "outputs": [
    {
     "name": "stdout",
     "output_type": "stream",
     "text": [
      "Parameters:  {'criterion': 'entropy', 'max_depth': 10, 'max_leaf_nodes': None, 'min_samples_leaf': 1, 'min_samples_split': 27}\n",
      "Balanced accuracy:  0.47668099059443064\n"
     ]
    }
   ],
   "source": [
    "# Для удалённых пропусков\n",
    "\n",
    "treecl = DecisionTreeClassifier(random_state=SEED)\n",
    "grid_search = GridSearchCV(treecl, param_grid, cv=5, scoring='balanced_accuracy')\n",
    "grid_search.fit(X_train_drop, y_train_drop)\n",
    "print('Parameters:', grid_search.best_params_)\n",
    "print('Balanced accuracy:', grid_search.best_score_)\n",
    "# Parameters: {'criterion': 'entropy', 'max_depth': 10, 'max_leaf_nodes': None, 'min_samples_leaf': 1, 'min_samples_split': 27}\n",
    "# Balanced accuracy: 0.47668099059443064"
   ]
  },
  {
   "cell_type": "code",
   "execution_count": 82,
   "id": "396e170a-8b8a-4ee9-9032-d9645b33ae85",
   "metadata": {},
   "outputs": [
    {
     "name": "stdout",
     "output_type": "stream",
     "text": [
      "Accuracy:  0.4460431654676259\n",
      "Balanced accuracy:  0.4823765040447677\n"
     ]
    }
   ],
   "source": [
    "best_tree = grid_search.best_estimator_\n",
    "best_tree.fit(X_train_drop, y_train_drop)\n",
    "y_pred_drop = best_tree.predict(X_test_drop)\n",
    "\n",
    "print('Accuracy:', accuracy_score(y_test_drop, y_pred_drop))\n",
    "# Accuracy: 0.44392721117223866\n",
    "print('Balanced accuracy:', balanced_accuracy_score(y_test_drop, y_pred_drop))\n",
    "# Balanced accuracy: 0.4785198676454298"
   ]
  },
  {
   "cell_type": "code",
   "execution_count": 79,
   "id": "bcfa1ced-6a2f-4f78-82b7-4e03cc16f3cc",
   "metadata": {},
   "outputs": [
    {
     "name": "stdout",
     "output_type": "stream",
     "text": [
      "Parameters:  {'criterion': 'entropy', 'max_depth': 10, 'max_leaf_nodes': None, 'min_samples_leaf': 5, 'min_samples_split': 33}\n",
      "Balanced accuracy:  0.49862431332966545\n"
     ]
    }
   ],
   "source": [
    "# Для данных с сохранением пропусков\n",
    "\n",
    "treecl = DecisionTreeClassifier(random_state=SEED)\n",
    "grid_search = GridSearchCV(treecl, param_grid, cv=5, scoring='balanced_accuracy')\n",
    "grid_search.fit(X_train_na, y_train_na)\n",
    "print('Parameters:', grid_search.best_params_)\n",
    "print('Balanced accuracy:', grid_search.best_score_)\n",
    "# Parameters: {'criterion': 'entropy', 'max_depth': 10, 'max_leaf_nodes': None, 'min_samples_leaf': 5, 'min_samples_split': 33}\n",
    "# Balanced accuracy: 49862431332966545"
   ]
  },
  {
   "cell_type": "code",
   "execution_count": 81,
   "id": "64186c64-5659-4b44-9f08-77bcfd48cdee",
   "metadata": {},
   "outputs": [
    {
     "name": "stdout",
     "output_type": "stream",
     "text": [
      "Accuracy:  0.4841666666666667\n",
      "Balanced accuracy:  0.4977540997016002\n"
     ]
    }
   ],
   "source": [
    "best_tree = grid_search.best_estimator_\n",
    "best_tree.fit(X_train_na, y_train_na)\n",
    "y_pred_na = best_tree.predict(X_test_na)\n",
    "\n",
    "print('Accuracy:', accuracy_score(y_test_na, y_pred_na))\n",
    "# Accuracy: 0.4841666666666667\n",
    "print('Balanced accuracy:', balanced_accuracy_score(y_test_na, y_pred_na))\n",
    "# Balanced accuracy: 0.4977540997016002"
   ]
  },
  {
   "cell_type": "markdown",
   "id": "14601329-7155-4c82-a87a-d4719aa8d2f7",
   "metadata": {},
   "source": [
    "Без обработки, модель после impute: Accuracy: 0.476 Balanced accuracy: 0.517\n",
    "Без обработки, модель своя: Accuracy:  0.484 Balanced accuracy: 0.498\n",
    "\n",
    "После удаления, модель после impute: Accuracy: 0.492 Balanced accuracy: 0.539\n",
    "После удаления, модель своя: Accuracy:  0.444 Balanced accuracy: 0.479\n",
    "\n",
    "Результаты немного озадачивают: для обрезанных данных всего один параметр поменялся, и так предсказания стали даже хуже, чем с параметрами, подобранными для данных с заполнением.\n",
    "\n",
    "Для данных с пропусками тоже изменился только один параметр при подборе, а предсказания в разные стороны сдвинулись.\n",
    "\n",
    "Можно сказать, что выбрасывать данные - не очень хорошая идея, а заполнение пропусков - вполне обоснованная стратегия. Во всяком случае, для этого примера."
   ]
  },
  {
   "cell_type": "markdown",
   "id": "11c54184-da20-4f53-9d5f-575e2cad3a4d",
   "metadata": {},
   "source": [
    "### Задание 3. Другие модели (без баллов, просто если есть желание)\n",
    "\n",
    "Проделайте операции из **Задания 2** с другими известными вам классификаторами. Стало ли лучше?"
   ]
  },
  {
   "cell_type": "markdown",
   "id": "9055bc6a-91fc-4043-b03d-626936e1351c",
   "metadata": {},
   "source": [
    "Здесь уже не хватило"
   ]
  },
  {
   "cell_type": "markdown",
   "id": "a4d857d4-15fc-456d-adb3-d0ebd1690cfa",
   "metadata": {},
   "source": [
    "### Задание 4. (0.5 доп. балла)\n",
    "\n",
    "Расскажите про свои любимые фильмы, мультики и тд.\n",
    "\n",
    "Люблю кино вообще. Древнюю классику в том числе.\n",
    "\n",
    "1. Трилогия \"Назад в будущее\". Надеюсь, в этой мультивселенной никто не решится на ремейк. Кассетное детство (я про  VHS) в условиях ограниченного контента позволило выучить практичеки наизусть.\n",
    "\n",
    "2. \"Король лев\" (который оригинальный мульт). Дисней - это почти всегда прекрасно, а этот мульт - за пределами оценок. И да: кассета с ним тоже засмотрена до дыр.\n",
    "\n",
    "3. Множество их. Для смелых: \"Метрополис\" Фрица Ланга, 1927 год, немой, чёрно-белый. Но если на что и решиться из тех времён, то этот - необходим. Фундамент кинематографа, можно после промотра тыкать пальцем в современное кино со словами:\"О, вот это к *Метрополису отсылка\"."
   ]
  },
  {
   "cell_type": "code",
   "execution_count": null,
   "id": "9ab7a7eb-eae9-4b07-bcc1-d5deca2aba00",
   "metadata": {},
   "outputs": [],
   "source": []
  }
 ],
 "metadata": {
  "kernelspec": {
   "display_name": "Python 3 (ipykernel)",
   "language": "python",
   "name": "python3"
  },
  "language_info": {
   "codemirror_mode": {
    "name": "ipython",
    "version": 3
   },
   "file_extension": ".py",
   "mimetype": "text/x-python",
   "name": "python",
   "nbconvert_exporter": "python",
   "pygments_lexer": "ipython3",
   "version": "3.10.12"
  }
 },
 "nbformat": 4,
 "nbformat_minor": 5
}
